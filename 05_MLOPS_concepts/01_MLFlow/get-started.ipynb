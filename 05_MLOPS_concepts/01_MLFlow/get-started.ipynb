{
 "cells": [
  {
   "cell_type": "markdown",
   "metadata": {},
   "source": [
    "## MLFLow Tracking Server"
   ]
  },
  {
   "cell_type": "code",
   "execution_count": 7,
   "metadata": {},
   "outputs": [],
   "source": [
    "import mlflow"
   ]
  },
  {
   "cell_type": "code",
   "execution_count": 8,
   "metadata": {},
   "outputs": [],
   "source": [
    "mlflow.set_tracking_uri(\"http://127.0.0.1:5000\")\n",
    "# Cualquier experimiento que realices debe trackearse en\n",
    "# esta ruta del servidor de mlflow. Puedes usar mlflow con\n",
    "# repositorios remotos para trackera tus pruebas\n",
    "#! mlflow ui para iniciar la UI del servidor en local"
   ]
  },
  {
   "cell_type": "code",
   "execution_count": 9,
   "metadata": {},
   "outputs": [
    {
     "name": "stderr",
     "output_type": "stream",
     "text": [
      "2025/03/03 21:15:59 INFO mlflow.tracking.fluent: Experiment with name 'Check localhost connection' does not exist. Creating a new experiment.\n"
     ]
    },
    {
     "name": "stdout",
     "output_type": "stream",
     "text": [
      "🏃 View run polite-moose-816 at: http://127.0.0.1:5000/#/experiments/518602806809928807/runs/49c0b9c64dd74b6f866cd81c1675dfa2\n",
      "🧪 View experiment at: http://127.0.0.1:5000/#/experiments/518602806809928807\n"
     ]
    }
   ],
   "source": [
    "mlflow.set_experiment(\"Check localhost connection\")\n",
    "\n",
    "with mlflow.start_run():\n",
    "    mlflow.log_metric(\"test\",1)\n",
    "    mlflow.log_metric(\"Krish\",2)"
   ]
  },
  {
   "cell_type": "code",
   "execution_count": 10,
   "metadata": {},
   "outputs": [
    {
     "name": "stdout",
     "output_type": "stream",
     "text": [
      "🏃 View run hilarious-moose-621 at: http://127.0.0.1:5000/#/experiments/518602806809928807/runs/f2da596c34ad4c089c50acf8e00c24a0\n",
      "🧪 View experiment at: http://127.0.0.1:5000/#/experiments/518602806809928807\n"
     ]
    }
   ],
   "source": [
    "with mlflow.start_run():\n",
    "    mlflow.log_metric(\"test1\",1)\n",
    "    mlflow.log_metric(\"Krish1\",2)"
   ]
  },
  {
   "cell_type": "code",
   "execution_count": 11,
   "metadata": {},
   "outputs": [
    {
     "name": "stdout",
     "output_type": "stream",
     "text": [
      "🏃 View run nosy-pug-633 at: http://127.0.0.1:5000/#/experiments/518602806809928807/runs/34d89e290bc0406c85dec0f435b68c97\n",
      "🧪 View experiment at: http://127.0.0.1:5000/#/experiments/518602806809928807\n"
     ]
    }
   ],
   "source": [
    "with mlflow.start_run():\n",
    "    mlflow.log_metric(\"test2\",1)\n",
    "    mlflow.log_metric(\"Krish2\",2)"
   ]
  }
 ],
 "metadata": {
  "kernelspec": {
   "display_name": "mlops_env",
   "language": "python",
   "name": "python3"
  },
  "language_info": {
   "codemirror_mode": {
    "name": "ipython",
    "version": 3
   },
   "file_extension": ".py",
   "mimetype": "text/x-python",
   "name": "python",
   "nbconvert_exporter": "python",
   "pygments_lexer": "ipython3",
   "version": "3.12.9"
  }
 },
 "nbformat": 4,
 "nbformat_minor": 2
}
