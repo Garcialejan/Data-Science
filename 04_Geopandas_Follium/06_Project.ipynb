{
 "cells": [
  {
   "cell_type": "code",
   "execution_count": 1,
   "metadata": {},
   "outputs": [],
   "source": [
    "# pip install scikit-learn geopandas h3pandas h3~=3.0 -q"
   ]
  },
  {
   "cell_type": "code",
   "execution_count": 2,
   "metadata": {},
   "outputs": [],
   "source": [
    "import geopandas as gpd\n",
    "import h3pandas\n",
    "from shapely.geometry import Point, Polygon\n",
    "from sklearn.preprocessing import MinMaxScaler\n",
    "import numpy as np\n",
    "import pandas as pd"
   ]
  },
  {
   "cell_type": "code",
   "execution_count": 3,
   "metadata": {},
   "outputs": [],
   "source": [
    "schools = gpd.read_file(\"./data/youtube_course/NYC/SchoolPoints_APS_2024_08_28.shp\")\n",
    "subways = gpd.read_file(\"./data/youtube_course/NYC/nyc_subway_entrances.shp\")\n",
    "bike_paths = gpd.read_file(\"./data/youtube_course/NYC/New York City Bike Routes_20241223.geojson\")\n",
    "neighborhoods = gpd.read_file(\"https://raw.githubusercontent.com/HodgesWardElliott/custom-nyc-neighborhoods/refs/heads/master/custom-pedia-cities-nyc-Mar2018.geojson\")\n",
    "parks = gpd.read_file(\"./data/youtube_course/NYC/Parks Properties_20241223.geojson\")"
   ]
  },
  {
   "cell_type": "code",
   "execution_count": 4,
   "metadata": {},
   "outputs": [],
   "source": [
    "schools = schools.to_crs(\"EPSG:3857\")\n",
    "subways = subways.to_crs(\"EPSG:3857\")\n",
    "bike_paths = bike_paths.to_crs(\"EPSG:3857\")\n",
    "neighborhoods = neighborhoods.to_crs(\"EPSG:3857\")\n",
    "parks = parks.to_crs(\"EPSG:3857\")"
   ]
  },
  {
   "cell_type": "markdown",
   "metadata": {},
   "source": [
    "# Analyze neighborhoods"
   ]
  },
  {
   "cell_type": "code",
   "execution_count": 5,
   "metadata": {},
   "outputs": [],
   "source": [
    "# Analysis for each neighborhood\n",
    "def analyze_neighborhood(neighborhood_geometry):\n",
    "    # Count features intersecting the neighborhood boundary\n",
    "    num_schools = schools[schools.geometry.intersects(neighborhood_geometry)].shape[0]\n",
    "    num_subways = subways[subways.geometry.intersects(neighborhood_geometry)].shape[0]\n",
    "    bike_path_length = bike_paths[bike_paths.geometry.intersects(neighborhood_geometry)].length.sum()\n",
    "    park_area = parks[parks.geometry.intersects(neighborhood_geometry)].area.sum()\n",
    "\n",
    "    return num_schools, num_subways, bike_path_length, park_area"
   ]
  },
  {
   "cell_type": "code",
   "execution_count": 6,
   "metadata": {},
   "outputs": [],
   "source": [
    "# Apply analysis to each neighborhood.\n",
    "# Calculamos el número de escuelas, entrdas de metro, longitud de carriles bici y áreas de parques para cada vecindario\n",
    "neighborhoods[['num_schools', 'num_subways', 'bike_path_length', 'park_area']] = neighborhoods.geometry.apply(\n",
    "    lambda geom: pd.Series(analyze_neighborhood(geom))\n",
    ")"
   ]
  },
  {
   "cell_type": "code",
   "execution_count": 7,
   "metadata": {},
   "outputs": [
    {
     "data": {
      "text/html": [
       "<div>\n",
       "<style scoped>\n",
       "    .dataframe tbody tr th:only-of-type {\n",
       "        vertical-align: middle;\n",
       "    }\n",
       "\n",
       "    .dataframe tbody tr th {\n",
       "        vertical-align: top;\n",
       "    }\n",
       "\n",
       "    .dataframe thead th {\n",
       "        text-align: right;\n",
       "    }\n",
       "</style>\n",
       "<table border=\"1\" class=\"dataframe\">\n",
       "  <thead>\n",
       "    <tr style=\"text-align: right;\">\n",
       "      <th></th>\n",
       "      <th>neighborhood</th>\n",
       "      <th>boroughCode</th>\n",
       "      <th>borough</th>\n",
       "      <th>X.id</th>\n",
       "      <th>geometry</th>\n",
       "      <th>num_schools</th>\n",
       "      <th>num_subways</th>\n",
       "      <th>bike_path_length</th>\n",
       "      <th>park_area</th>\n",
       "    </tr>\n",
       "  </thead>\n",
       "  <tbody>\n",
       "    <tr>\n",
       "      <th>0</th>\n",
       "      <td>Allerton</td>\n",
       "      <td>2</td>\n",
       "      <td>Bronx</td>\n",
       "      <td>http://nyc.pediacities.com/Resource/Neighborho...</td>\n",
       "      <td>POLYGON ((-8220788.214 4993431.406, -8220479.3...</td>\n",
       "      <td>12.0</td>\n",
       "      <td>5.0</td>\n",
       "      <td>12972.782695</td>\n",
       "      <td>5.191057e+05</td>\n",
       "    </tr>\n",
       "    <tr>\n",
       "      <th>1</th>\n",
       "      <td>Alley Pond Park</td>\n",
       "      <td>4</td>\n",
       "      <td>Queens</td>\n",
       "      <td>http://nyc.pediacities.com/Resource/Neighborho...</td>\n",
       "      <td>POLYGON ((-8209070.244 4973902.938, -8209112.6...</td>\n",
       "      <td>0.0</td>\n",
       "      <td>0.0</td>\n",
       "      <td>5886.886135</td>\n",
       "      <td>7.365924e+06</td>\n",
       "    </tr>\n",
       "    <tr>\n",
       "      <th>2</th>\n",
       "      <td>Arden Heights</td>\n",
       "      <td>5</td>\n",
       "      <td>Staten Island</td>\n",
       "      <td>http://nyc.pediacities.com/Resource/Neighborho...</td>\n",
       "      <td>POLYGON ((-8256547.374 4947814.753, -8256546.8...</td>\n",
       "      <td>1.0</td>\n",
       "      <td>0.0</td>\n",
       "      <td>0.000000</td>\n",
       "      <td>9.533262e+06</td>\n",
       "    </tr>\n",
       "    <tr>\n",
       "      <th>3</th>\n",
       "      <td>Arlington</td>\n",
       "      <td>5</td>\n",
       "      <td>Staten Island</td>\n",
       "      <td>http://nyc.pediacities.com/Resource/Neighborho...</td>\n",
       "      <td>POLYGON ((-8255425.402 4959593.695, -8255451.0...</td>\n",
       "      <td>0.0</td>\n",
       "      <td>0.0</td>\n",
       "      <td>0.000000</td>\n",
       "      <td>2.440717e+05</td>\n",
       "    </tr>\n",
       "    <tr>\n",
       "      <th>4</th>\n",
       "      <td>Arrochar</td>\n",
       "      <td>5</td>\n",
       "      <td>Staten Island</td>\n",
       "      <td>http://nyc.pediacities.com/Resource/Neighborho...</td>\n",
       "      <td>POLYGON ((-8244408.305 4952520.907, -8244409.6...</td>\n",
       "      <td>2.0</td>\n",
       "      <td>0.0</td>\n",
       "      <td>9014.602134</td>\n",
       "      <td>4.578543e+06</td>\n",
       "    </tr>\n",
       "    <tr>\n",
       "      <th>...</th>\n",
       "      <td>...</td>\n",
       "      <td>...</td>\n",
       "      <td>...</td>\n",
       "      <td>...</td>\n",
       "      <td>...</td>\n",
       "      <td>...</td>\n",
       "      <td>...</td>\n",
       "      <td>...</td>\n",
       "      <td>...</td>\n",
       "    </tr>\n",
       "    <tr>\n",
       "      <th>307</th>\n",
       "      <td>Woodside</td>\n",
       "      <td>4</td>\n",
       "      <td>Queens</td>\n",
       "      <td>http://nyc.pediacities.com/Resource/Neighborho...</td>\n",
       "      <td>POLYGON ((-8226606.801 4976664.013, -8226525.9...</td>\n",
       "      <td>5.0</td>\n",
       "      <td>12.0</td>\n",
       "      <td>15405.289108</td>\n",
       "      <td>5.105127e+04</td>\n",
       "    </tr>\n",
       "    <tr>\n",
       "      <th>308</th>\n",
       "      <td>East Williamsburg</td>\n",
       "      <td>3</td>\n",
       "      <td>Brooklyn</td>\n",
       "      <td>None</td>\n",
       "      <td>POLYGON ((-8231107.865 4971393.424, -8231029.9...</td>\n",
       "      <td>5.0</td>\n",
       "      <td>5.0</td>\n",
       "      <td>7544.864539</td>\n",
       "      <td>6.500018e+04</td>\n",
       "    </tr>\n",
       "    <tr>\n",
       "      <th>309</th>\n",
       "      <td>Hamilton Heights</td>\n",
       "      <td>1</td>\n",
       "      <td>Manhattan</td>\n",
       "      <td>None</td>\n",
       "      <td>POLYGON ((-8232132.004 4988019.867, -8231085.6...</td>\n",
       "      <td>10.0</td>\n",
       "      <td>16.0</td>\n",
       "      <td>7005.241155</td>\n",
       "      <td>1.617397e+06</td>\n",
       "    </tr>\n",
       "    <tr>\n",
       "      <th>310</th>\n",
       "      <td>Williamsburg</td>\n",
       "      <td>3</td>\n",
       "      <td>Brooklyn</td>\n",
       "      <td>None</td>\n",
       "      <td>POLYGON ((-8232919.255 4971877.704, -8232410.0...</td>\n",
       "      <td>28.0</td>\n",
       "      <td>43.0</td>\n",
       "      <td>49675.601087</td>\n",
       "      <td>7.826565e+05</td>\n",
       "    </tr>\n",
       "    <tr>\n",
       "      <th>311</th>\n",
       "      <td>Harlem</td>\n",
       "      <td>1</td>\n",
       "      <td>Manhattan</td>\n",
       "      <td>None</td>\n",
       "      <td>POLYGON ((-8230358.427 4987026.661, -8230342.4...</td>\n",
       "      <td>45.0</td>\n",
       "      <td>40.0</td>\n",
       "      <td>25331.271413</td>\n",
       "      <td>1.042486e+06</td>\n",
       "    </tr>\n",
       "  </tbody>\n",
       "</table>\n",
       "<p>312 rows × 9 columns</p>\n",
       "</div>"
      ],
      "text/plain": [
       "          neighborhood boroughCode        borough  \\\n",
       "0             Allerton           2          Bronx   \n",
       "1      Alley Pond Park           4         Queens   \n",
       "2        Arden Heights           5  Staten Island   \n",
       "3            Arlington           5  Staten Island   \n",
       "4             Arrochar           5  Staten Island   \n",
       "..                 ...         ...            ...   \n",
       "307           Woodside           4         Queens   \n",
       "308  East Williamsburg           3       Brooklyn   \n",
       "309   Hamilton Heights           1      Manhattan   \n",
       "310       Williamsburg           3       Brooklyn   \n",
       "311             Harlem           1      Manhattan   \n",
       "\n",
       "                                                  X.id  \\\n",
       "0    http://nyc.pediacities.com/Resource/Neighborho...   \n",
       "1    http://nyc.pediacities.com/Resource/Neighborho...   \n",
       "2    http://nyc.pediacities.com/Resource/Neighborho...   \n",
       "3    http://nyc.pediacities.com/Resource/Neighborho...   \n",
       "4    http://nyc.pediacities.com/Resource/Neighborho...   \n",
       "..                                                 ...   \n",
       "307  http://nyc.pediacities.com/Resource/Neighborho...   \n",
       "308                                               None   \n",
       "309                                               None   \n",
       "310                                               None   \n",
       "311                                               None   \n",
       "\n",
       "                                              geometry  num_schools  \\\n",
       "0    POLYGON ((-8220788.214 4993431.406, -8220479.3...         12.0   \n",
       "1    POLYGON ((-8209070.244 4973902.938, -8209112.6...          0.0   \n",
       "2    POLYGON ((-8256547.374 4947814.753, -8256546.8...          1.0   \n",
       "3    POLYGON ((-8255425.402 4959593.695, -8255451.0...          0.0   \n",
       "4    POLYGON ((-8244408.305 4952520.907, -8244409.6...          2.0   \n",
       "..                                                 ...          ...   \n",
       "307  POLYGON ((-8226606.801 4976664.013, -8226525.9...          5.0   \n",
       "308  POLYGON ((-8231107.865 4971393.424, -8231029.9...          5.0   \n",
       "309  POLYGON ((-8232132.004 4988019.867, -8231085.6...         10.0   \n",
       "310  POLYGON ((-8232919.255 4971877.704, -8232410.0...         28.0   \n",
       "311  POLYGON ((-8230358.427 4987026.661, -8230342.4...         45.0   \n",
       "\n",
       "     num_subways  bike_path_length     park_area  \n",
       "0            5.0      12972.782695  5.191057e+05  \n",
       "1            0.0       5886.886135  7.365924e+06  \n",
       "2            0.0          0.000000  9.533262e+06  \n",
       "3            0.0          0.000000  2.440717e+05  \n",
       "4            0.0       9014.602134  4.578543e+06  \n",
       "..           ...               ...           ...  \n",
       "307         12.0      15405.289108  5.105127e+04  \n",
       "308          5.0       7544.864539  6.500018e+04  \n",
       "309         16.0       7005.241155  1.617397e+06  \n",
       "310         43.0      49675.601087  7.826565e+05  \n",
       "311         40.0      25331.271413  1.042486e+06  \n",
       "\n",
       "[312 rows x 9 columns]"
      ]
     },
     "execution_count": 7,
     "metadata": {},
     "output_type": "execute_result"
    }
   ],
   "source": [
    "neighborhoods"
   ]
  },
  {
   "cell_type": "code",
   "execution_count": 8,
   "metadata": {},
   "outputs": [],
   "source": [
    "# Normalize results (0 to 1 scale)\n",
    "scaler = MinMaxScaler()\n",
    "columns_to_normalize = ['num_schools', 'num_subways', 'bike_path_length', 'park_area']\n",
    "neighborhoods[columns_to_normalize] = scaler.fit_transform(neighborhoods[columns_to_normalize])"
   ]
  },
  {
   "cell_type": "code",
   "execution_count": 9,
   "metadata": {},
   "outputs": [
    {
     "data": {
      "text/html": [
       "<div>\n",
       "<style scoped>\n",
       "    .dataframe tbody tr th:only-of-type {\n",
       "        vertical-align: middle;\n",
       "    }\n",
       "\n",
       "    .dataframe tbody tr th {\n",
       "        vertical-align: top;\n",
       "    }\n",
       "\n",
       "    .dataframe thead th {\n",
       "        text-align: right;\n",
       "    }\n",
       "</style>\n",
       "<table border=\"1\" class=\"dataframe\">\n",
       "  <thead>\n",
       "    <tr style=\"text-align: right;\">\n",
       "      <th></th>\n",
       "      <th>neighborhood</th>\n",
       "      <th>boroughCode</th>\n",
       "      <th>borough</th>\n",
       "      <th>X.id</th>\n",
       "      <th>geometry</th>\n",
       "      <th>num_schools</th>\n",
       "      <th>num_subways</th>\n",
       "      <th>bike_path_length</th>\n",
       "      <th>park_area</th>\n",
       "    </tr>\n",
       "  </thead>\n",
       "  <tbody>\n",
       "    <tr>\n",
       "      <th>0</th>\n",
       "      <td>Allerton</td>\n",
       "      <td>2</td>\n",
       "      <td>Bronx</td>\n",
       "      <td>http://nyc.pediacities.com/Resource/Neighborho...</td>\n",
       "      <td>POLYGON ((-8220788.214 4993431.406, -8220479.3...</td>\n",
       "      <td>0.193548</td>\n",
       "      <td>0.045045</td>\n",
       "      <td>0.181510</td>\n",
       "      <td>0.026226</td>\n",
       "    </tr>\n",
       "    <tr>\n",
       "      <th>1</th>\n",
       "      <td>Alley Pond Park</td>\n",
       "      <td>4</td>\n",
       "      <td>Queens</td>\n",
       "      <td>http://nyc.pediacities.com/Resource/Neighborho...</td>\n",
       "      <td>POLYGON ((-8209070.244 4973902.938, -8209112.6...</td>\n",
       "      <td>0.000000</td>\n",
       "      <td>0.000000</td>\n",
       "      <td>0.082367</td>\n",
       "      <td>0.372141</td>\n",
       "    </tr>\n",
       "    <tr>\n",
       "      <th>2</th>\n",
       "      <td>Arden Heights</td>\n",
       "      <td>5</td>\n",
       "      <td>Staten Island</td>\n",
       "      <td>http://nyc.pediacities.com/Resource/Neighborho...</td>\n",
       "      <td>POLYGON ((-8256547.374 4947814.753, -8256546.8...</td>\n",
       "      <td>0.016129</td>\n",
       "      <td>0.000000</td>\n",
       "      <td>0.000000</td>\n",
       "      <td>0.481639</td>\n",
       "    </tr>\n",
       "  </tbody>\n",
       "</table>\n",
       "</div>"
      ],
      "text/plain": [
       "      neighborhood boroughCode        borough  \\\n",
       "0         Allerton           2          Bronx   \n",
       "1  Alley Pond Park           4         Queens   \n",
       "2    Arden Heights           5  Staten Island   \n",
       "\n",
       "                                                X.id  \\\n",
       "0  http://nyc.pediacities.com/Resource/Neighborho...   \n",
       "1  http://nyc.pediacities.com/Resource/Neighborho...   \n",
       "2  http://nyc.pediacities.com/Resource/Neighborho...   \n",
       "\n",
       "                                            geometry  num_schools  \\\n",
       "0  POLYGON ((-8220788.214 4993431.406, -8220479.3...     0.193548   \n",
       "1  POLYGON ((-8209070.244 4973902.938, -8209112.6...     0.000000   \n",
       "2  POLYGON ((-8256547.374 4947814.753, -8256546.8...     0.016129   \n",
       "\n",
       "   num_subways  bike_path_length  park_area  \n",
       "0     0.045045          0.181510   0.026226  \n",
       "1     0.000000          0.082367   0.372141  \n",
       "2     0.000000          0.000000   0.481639  "
      ]
     },
     "execution_count": 9,
     "metadata": {},
     "output_type": "execute_result"
    }
   ],
   "source": [
    "neighborhoods.head(3)"
   ]
  },
  {
   "cell_type": "code",
   "execution_count": 10,
   "metadata": {},
   "outputs": [],
   "source": [
    "# Aggregate results using touching neighborhoods\n",
    "def aggregate_touching_neighborhoods(neighborhood_index):\n",
    "    current_geometry = neighborhoods.loc[neighborhood_index, 'geometry']\n",
    "    touching_indices = neighborhoods[neighborhoods.geometry.touches(current_geometry)].index\n",
    "\n",
    "    if not touching_indices.empty:\n",
    "        neighbor_values = neighborhoods.loc[touching_indices, columns_to_normalize].mean()\n",
    "    else:\n",
    "        neighbor_values = neighborhoods.loc[neighborhood_index, columns_to_normalize]\n",
    "\n",
    "    return neighbor_values"
   ]
  },
  {
   "cell_type": "code",
   "execution_count": 11,
   "metadata": {},
   "outputs": [],
   "source": [
    "# Apply aggregation to each neighborhood\n",
    "neighborhoods[columns_to_normalize] = neighborhoods.index.to_series().apply(\n",
    "    lambda idx: aggregate_touching_neighborhoods(idx)\n",
    ")"
   ]
  },
  {
   "cell_type": "code",
   "execution_count": 12,
   "metadata": {},
   "outputs": [
    {
     "data": {
      "text/html": [
       "<div>\n",
       "<style scoped>\n",
       "    .dataframe tbody tr th:only-of-type {\n",
       "        vertical-align: middle;\n",
       "    }\n",
       "\n",
       "    .dataframe tbody tr th {\n",
       "        vertical-align: top;\n",
       "    }\n",
       "\n",
       "    .dataframe thead th {\n",
       "        text-align: right;\n",
       "    }\n",
       "</style>\n",
       "<table border=\"1\" class=\"dataframe\">\n",
       "  <thead>\n",
       "    <tr style=\"text-align: right;\">\n",
       "      <th></th>\n",
       "      <th>neighborhood</th>\n",
       "      <th>boroughCode</th>\n",
       "      <th>borough</th>\n",
       "      <th>X.id</th>\n",
       "      <th>geometry</th>\n",
       "      <th>num_schools</th>\n",
       "      <th>num_subways</th>\n",
       "      <th>bike_path_length</th>\n",
       "      <th>park_area</th>\n",
       "    </tr>\n",
       "  </thead>\n",
       "  <tbody>\n",
       "    <tr>\n",
       "      <th>0</th>\n",
       "      <td>Allerton</td>\n",
       "      <td>2</td>\n",
       "      <td>Bronx</td>\n",
       "      <td>http://nyc.pediacities.com/Resource/Neighborho...</td>\n",
       "      <td>POLYGON ((-8220788.214 4993431.406, -8220479.3...</td>\n",
       "      <td>0.048387</td>\n",
       "      <td>0.027027</td>\n",
       "      <td>0.006424</td>\n",
       "      <td>0.024072</td>\n",
       "    </tr>\n",
       "    <tr>\n",
       "      <th>1</th>\n",
       "      <td>Alley Pond Park</td>\n",
       "      <td>4</td>\n",
       "      <td>Queens</td>\n",
       "      <td>http://nyc.pediacities.com/Resource/Neighborho...</td>\n",
       "      <td>POLYGON ((-8209070.244 4973902.938, -8209112.6...</td>\n",
       "      <td>0.134409</td>\n",
       "      <td>0.000000</td>\n",
       "      <td>0.141117</td>\n",
       "      <td>0.308764</td>\n",
       "    </tr>\n",
       "    <tr>\n",
       "      <th>2</th>\n",
       "      <td>Arden Heights</td>\n",
       "      <td>5</td>\n",
       "      <td>Staten Island</td>\n",
       "      <td>http://nyc.pediacities.com/Resource/Neighborho...</td>\n",
       "      <td>POLYGON ((-8256547.374 4947814.753, -8256546.8...</td>\n",
       "      <td>0.029570</td>\n",
       "      <td>0.012012</td>\n",
       "      <td>0.055079</td>\n",
       "      <td>0.202038</td>\n",
       "    </tr>\n",
       "  </tbody>\n",
       "</table>\n",
       "</div>"
      ],
      "text/plain": [
       "      neighborhood boroughCode        borough  \\\n",
       "0         Allerton           2          Bronx   \n",
       "1  Alley Pond Park           4         Queens   \n",
       "2    Arden Heights           5  Staten Island   \n",
       "\n",
       "                                                X.id  \\\n",
       "0  http://nyc.pediacities.com/Resource/Neighborho...   \n",
       "1  http://nyc.pediacities.com/Resource/Neighborho...   \n",
       "2  http://nyc.pediacities.com/Resource/Neighborho...   \n",
       "\n",
       "                                            geometry  num_schools  \\\n",
       "0  POLYGON ((-8220788.214 4993431.406, -8220479.3...     0.048387   \n",
       "1  POLYGON ((-8209070.244 4973902.938, -8209112.6...     0.134409   \n",
       "2  POLYGON ((-8256547.374 4947814.753, -8256546.8...     0.029570   \n",
       "\n",
       "   num_subways  bike_path_length  park_area  \n",
       "0     0.027027          0.006424   0.024072  \n",
       "1     0.000000          0.141117   0.308764  \n",
       "2     0.012012          0.055079   0.202038  "
      ]
     },
     "execution_count": 12,
     "metadata": {},
     "output_type": "execute_result"
    }
   ],
   "source": [
    "neighborhoods.head(3)"
   ]
  },
  {
   "cell_type": "code",
   "execution_count": 13,
   "metadata": {},
   "outputs": [],
   "source": [
    "# Final normalization (0 to 1 scale)\n",
    "neighborhoods[columns_to_normalize] = scaler.fit_transform(neighborhoods[columns_to_normalize])"
   ]
  },
  {
   "cell_type": "code",
   "execution_count": 14,
   "metadata": {},
   "outputs": [
    {
     "data": {
      "text/html": [
       "<div>\n",
       "<style scoped>\n",
       "    .dataframe tbody tr th:only-of-type {\n",
       "        vertical-align: middle;\n",
       "    }\n",
       "\n",
       "    .dataframe tbody tr th {\n",
       "        vertical-align: top;\n",
       "    }\n",
       "\n",
       "    .dataframe thead th {\n",
       "        text-align: right;\n",
       "    }\n",
       "</style>\n",
       "<table border=\"1\" class=\"dataframe\">\n",
       "  <thead>\n",
       "    <tr style=\"text-align: right;\">\n",
       "      <th></th>\n",
       "      <th>neighborhood</th>\n",
       "      <th>boroughCode</th>\n",
       "      <th>borough</th>\n",
       "      <th>X.id</th>\n",
       "      <th>geometry</th>\n",
       "      <th>num_schools</th>\n",
       "      <th>num_subways</th>\n",
       "      <th>bike_path_length</th>\n",
       "      <th>park_area</th>\n",
       "    </tr>\n",
       "  </thead>\n",
       "  <tbody>\n",
       "    <tr>\n",
       "      <th>0</th>\n",
       "      <td>Allerton</td>\n",
       "      <td>2</td>\n",
       "      <td>Bronx</td>\n",
       "      <td>http://nyc.pediacities.com/Resource/Neighborho...</td>\n",
       "      <td>POLYGON ((-8220788.214 4993431.406, -8220479.3...</td>\n",
       "      <td>0.066667</td>\n",
       "      <td>0.036585</td>\n",
       "      <td>0.009243</td>\n",
       "      <td>0.025121</td>\n",
       "    </tr>\n",
       "    <tr>\n",
       "      <th>1</th>\n",
       "      <td>Alley Pond Park</td>\n",
       "      <td>4</td>\n",
       "      <td>Queens</td>\n",
       "      <td>http://nyc.pediacities.com/Resource/Neighborho...</td>\n",
       "      <td>POLYGON ((-8209070.244 4973902.938, -8209112.6...</td>\n",
       "      <td>0.185185</td>\n",
       "      <td>0.000000</td>\n",
       "      <td>0.203034</td>\n",
       "      <td>0.322221</td>\n",
       "    </tr>\n",
       "    <tr>\n",
       "      <th>2</th>\n",
       "      <td>Arden Heights</td>\n",
       "      <td>5</td>\n",
       "      <td>Staten Island</td>\n",
       "      <td>http://nyc.pediacities.com/Resource/Neighborho...</td>\n",
       "      <td>POLYGON ((-8256547.374 4947814.753, -8256546.8...</td>\n",
       "      <td>0.040741</td>\n",
       "      <td>0.016260</td>\n",
       "      <td>0.079246</td>\n",
       "      <td>0.210843</td>\n",
       "    </tr>\n",
       "  </tbody>\n",
       "</table>\n",
       "</div>"
      ],
      "text/plain": [
       "      neighborhood boroughCode        borough  \\\n",
       "0         Allerton           2          Bronx   \n",
       "1  Alley Pond Park           4         Queens   \n",
       "2    Arden Heights           5  Staten Island   \n",
       "\n",
       "                                                X.id  \\\n",
       "0  http://nyc.pediacities.com/Resource/Neighborho...   \n",
       "1  http://nyc.pediacities.com/Resource/Neighborho...   \n",
       "2  http://nyc.pediacities.com/Resource/Neighborho...   \n",
       "\n",
       "                                            geometry  num_schools  \\\n",
       "0  POLYGON ((-8220788.214 4993431.406, -8220479.3...     0.066667   \n",
       "1  POLYGON ((-8209070.244 4973902.938, -8209112.6...     0.185185   \n",
       "2  POLYGON ((-8256547.374 4947814.753, -8256546.8...     0.040741   \n",
       "\n",
       "   num_subways  bike_path_length  park_area  \n",
       "0     0.036585          0.009243   0.025121  \n",
       "1     0.000000          0.203034   0.322221  \n",
       "2     0.016260          0.079246   0.210843  "
      ]
     },
     "execution_count": 14,
     "metadata": {},
     "output_type": "execute_result"
    }
   ],
   "source": [
    "neighborhoods.head(3)"
   ]
  },
  {
   "cell_type": "code",
   "execution_count": 15,
   "metadata": {},
   "outputs": [],
   "source": [
    "neighborhoods['index_score'] = neighborhoods['num_schools'] + neighborhoods['num_subways'] + neighborhoods['bike_path_length'] + neighborhoods['park_area'] "
   ]
  },
  {
   "cell_type": "code",
   "execution_count": 16,
   "metadata": {},
   "outputs": [
    {
     "data": {
      "application/vnd.jupyter.widget-view+json": {
       "model_id": "d5e5cf9b427d48cf9f28d9674375465f",
       "version_major": 2,
       "version_minor": 0
      },
      "text/plain": [
       "Map(center=[20, 0], controls=(ZoomControl(options=['position', 'zoom_in_text', 'zoom_in_title', 'zoom_out_text…"
      ]
     },
     "execution_count": 16,
     "metadata": {},
     "output_type": "execute_result"
    }
   ],
   "source": [
    "import leafmap\n",
    "\n",
    "m = leafmap.Map()\n",
    "m.add_data(\n",
    "    neighborhoods, column=\"index_score\", scheme=\"Quantiles\", cmap=\"Blues\", legend_title=\"Index\"\n",
    ")\n",
    "m"
   ]
  },
  {
   "cell_type": "code",
   "execution_count": 20,
   "metadata": {},
   "outputs": [],
   "source": [
    "# Save or visualize the results\n",
    "neighborhoods.to_file(\"./data/processed_data/neighborhood_access_index.geojson\", driver=\"GeoJSON\")\n",
    "neighborhoods.to_file(\"./data/processed_data/neighborhood_access_index.shp\") # Para guardar como un shapefile"
   ]
  },
  {
   "cell_type": "markdown",
   "metadata": {},
   "source": [
    "# Set up the H3 Grid"
   ]
  },
  {
   "cell_type": "code",
   "execution_count": 29,
   "metadata": {},
   "outputs": [],
   "source": [
    "neighborhoods = neighborhoods.to_crs('EPSG:4326')"
   ]
  },
  {
   "cell_type": "code",
   "execution_count": 30,
   "metadata": {},
   "outputs": [],
   "source": [
    "resolution = 9  # Adjust resolution as needed\n",
    "gdf_h3 = neighborhoods.h3.polyfill(resolution)"
   ]
  },
  {
   "cell_type": "code",
   "execution_count": null,
   "metadata": {},
   "outputs": [],
   "source": [
    "gdf_h3.head()"
   ]
  },
  {
   "cell_type": "code",
   "execution_count": null,
   "metadata": {},
   "outputs": [],
   "source": [
    "gdf_h3 = neighborhoods.h3.polyfill(resolution, explode=True)\n",
    "gdf_h3.head()"
   ]
  },
  {
   "cell_type": "code",
   "execution_count": null,
   "metadata": {},
   "outputs": [],
   "source": [
    "gdf_h3 = gdf_h3[gdf_h3['h3_polyfill'].isnull() == False].set_index('h3_polyfill')\n",
    "gdf_h3.index.name = None\n",
    "gdf_h3"
   ]
  },
  {
   "cell_type": "code",
   "execution_count": 34,
   "metadata": {},
   "outputs": [],
   "source": [
    "gdf_h3 = gdf_h3.h3.h3_to_geo_boundary()"
   ]
  },
  {
   "cell_type": "code",
   "execution_count": null,
   "metadata": {},
   "outputs": [],
   "source": [
    "pip install folium matplotlib mapclassify -q"
   ]
  },
  {
   "cell_type": "code",
   "execution_count": null,
   "metadata": {},
   "outputs": [],
   "source": [
    "gdf_h3.explore()"
   ]
  },
  {
   "cell_type": "code",
   "execution_count": 37,
   "metadata": {},
   "outputs": [],
   "source": [
    "gdf_h3_proj = gdf_h3.to_crs('EPSG:3857')"
   ]
  },
  {
   "cell_type": "code",
   "execution_count": 38,
   "metadata": {},
   "outputs": [],
   "source": [
    "# Analysis for each hex cell\n",
    "def analyze_access(hex_geometry):\n",
    "    # Buffer hex geometry\n",
    "    buffer_1600m = hex_geometry.buffer(1600)\n",
    "    buffer_800m = hex_geometry.buffer(800)\n",
    "\n",
    "    # Count features within buffers\n",
    "    num_schools = schools[schools.geometry.intersects(buffer_1600m)].shape[0]\n",
    "    num_subways = subways[subways.geometry.intersects(buffer_1600m)].shape[0]\n",
    "    bike_path_length = bike_paths[bike_paths.geometry.intersects(buffer_1600m)].length.sum()\n",
    "    park_area = parks[parks.geometry.intersects(buffer_800m)].area.sum()\n",
    "\n",
    "    return num_schools, num_subways, bike_path_length, park_area"
   ]
  },
  {
   "cell_type": "code",
   "execution_count": 39,
   "metadata": {},
   "outputs": [],
   "source": [
    "gdf_h3_proj = gdf_h3.to_crs('EPSG:3857')"
   ]
  },
  {
   "cell_type": "code",
   "execution_count": 40,
   "metadata": {},
   "outputs": [],
   "source": [
    "gdf_h3_proj[['num_schools', 'num_subways', 'bike_path_length', 'park_area']] = gdf_h3_proj.geometry.apply(\n",
    "    lambda hex_geom: pd.Series(analyze_access(hex_geom))\n",
    ")\n"
   ]
  },
  {
   "cell_type": "code",
   "execution_count": null,
   "metadata": {},
   "outputs": [],
   "source": [
    "gdf_h3_proj.head()"
   ]
  },
  {
   "cell_type": "code",
   "execution_count": 42,
   "metadata": {},
   "outputs": [],
   "source": [
    "gdf_h3_proj['h3_index'] = gdf_h3_proj.index"
   ]
  },
  {
   "cell_type": "markdown",
   "metadata": {},
   "source": [
    "# Run the normalization analysis"
   ]
  },
  {
   "cell_type": "code",
   "execution_count": 43,
   "metadata": {},
   "outputs": [],
   "source": [
    "import h3"
   ]
  },
  {
   "cell_type": "code",
   "execution_count": 50,
   "metadata": {},
   "outputs": [],
   "source": [
    "# Normalize results\n",
    "scaler = MinMaxScaler()\n",
    "normalized_columns = ['num_schools', 'num_subways', 'bike_path_length', 'park_area']\n",
    "gdf_h3_proj[normalized_columns] = scaler.fit_transform(gdf_h3_proj[normalized_columns])\n",
    "\n",
    "# Aggregate results using neighboring cells\n",
    "def aggregate_neighbors(h3_index):\n",
    "    neighbors = h3.k_ring(h3_index, 2)  # 2-k ring\n",
    "    neighbor_values = gdf_h3_proj[gdf_h3_proj['h3_index'].isin(neighbors)][normalized_columns].mean()\n",
    "    return neighbor_values\n",
    "\n",
    "gdf_h3_proj[normalized_columns] = gdf_h3_proj['h3_index'].apply(\n",
    "    lambda h3_index: aggregate_neighbors(h3_index)\n",
    ")\n",
    "\n",
    "# # Final normalized analysis\n",
    "gdf_h3_proj[normalized_columns] = scaler.fit_transform(gdf_h3_proj[normalized_columns])\n",
    "\n",
    "# Save or visualize the results\n",
    "gdf_h3_proj.to_file(\"access_index.geojson\", driver=\"GeoJSON\")"
   ]
  },
  {
   "cell_type": "code",
   "execution_count": null,
   "metadata": {},
   "outputs": [],
   "source": [
    "gdf_h3_proj.head(3)"
   ]
  },
  {
   "cell_type": "markdown",
   "metadata": {},
   "source": [
    "# Create the total score"
   ]
  },
  {
   "cell_type": "code",
   "execution_count": 52,
   "metadata": {},
   "outputs": [],
   "source": [
    "gdf_h3_proj['index_score'] = gdf_h3_proj['num_schools'] + gdf_h3_proj['num_subways'] + gdf_h3_proj['bike_path_length'] + gdf_h3_proj['park_area'] "
   ]
  },
  {
   "cell_type": "code",
   "execution_count": 53,
   "metadata": {},
   "outputs": [],
   "source": [
    "import leafmap"
   ]
  },
  {
   "cell_type": "code",
   "execution_count": 54,
   "metadata": {},
   "outputs": [],
   "source": [
    "gdf_h3_map = gdf_h3_proj.to_crs('EPSG:4326')"
   ]
  },
  {
   "cell_type": "code",
   "execution_count": null,
   "metadata": {},
   "outputs": [],
   "source": [
    "m = leafmap.Map()\n",
    "m.add_data(\n",
    "    gdf_h3_map, column=\"index_score\", scheme=\"Quantiles\", cmap=\"Blues\", legend_title=\"Index\"\n",
    ")\n",
    "m"
   ]
  },
  {
   "cell_type": "code",
   "execution_count": null,
   "metadata": {},
   "outputs": [],
   "source": []
  }
 ],
 "metadata": {
  "kernelspec": {
   "display_name": "geopandas_env",
   "language": "python",
   "name": "python3"
  },
  "language_info": {
   "codemirror_mode": {
    "name": "ipython",
    "version": 3
   },
   "file_extension": ".py",
   "mimetype": "text/x-python",
   "name": "python",
   "nbconvert_exporter": "python",
   "pygments_lexer": "ipython3",
   "version": "3.12.6"
  }
 },
 "nbformat": 4,
 "nbformat_minor": 2
}
