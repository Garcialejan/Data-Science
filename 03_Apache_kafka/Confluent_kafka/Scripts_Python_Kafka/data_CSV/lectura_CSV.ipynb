{
 "cells": [
  {
   "cell_type": "markdown",
   "metadata": {},
   "source": [
    "Importar Librerías"
   ]
  },
  {
   "cell_type": "code",
   "execution_count": null,
   "metadata": {},
   "outputs": [],
   "source": [
    "from confluent_kafka import Consumer, Producer\n",
    "import matplotlib.pyplot as plt\n",
    "from io import StringIO\n",
    "import pandas as pd"
   ]
  },
  {
   "cell_type": "markdown",
   "metadata": {},
   "source": [
    "Productor"
   ]
  },
  {
   "cell_type": "code",
   "execution_count": null,
   "metadata": {},
   "outputs": [],
   "source": [
    "#Leer CSV\n",
    "csv_file_path = 'data_empresas.csv'\n",
    "df = pd.read_csv(csv_file_path)\n",
    "\n",
    "producer = Producer({'bootstrap.servers': 'localhost:9092'})\n",
    "\n",
    "for _, row in df.iterrows():\n",
    "    message = f\"{row['empresa']},{row['pais']},{row['precioLY']},{row['precioCY']}\"\n",
    "    producer.produce('testtopic', value=message)\n",
    "\n",
    "producer.flush()"
   ]
  },
  {
   "cell_type": "markdown",
   "metadata": {},
   "source": [
    "Consumidor"
   ]
  },
  {
   "cell_type": "code",
   "execution_count": null,
   "metadata": {},
   "outputs": [],
   "source": [
    "c = Consumer({'bootstrap.servers': 'localhost:9092', 'group.id': 'migrupo', 'auto.offset.reset': 'earliest'})\n",
    "c.subscribe(['testtopic'])\n",
    "\n",
    "plot_df = pd.DataFrame(columns=['empresa', 'pais', 'precioLY', 'precioCY'])\n",
    "\n",
    "try:\n",
    "    while True:\n",
    "        msg = c.poll(1.0)\n",
    "        if msg is None:\n",
    "            print(\"No hay ningún mensaje\")\n",
    "            continue\n",
    "        if msg.error():\n",
    "            print('Error: {}'.format(msg.error()))\n",
    "            continue\n",
    "\n",
    "        message_data = StringIO(msg.value().decode('utf-8'))\n",
    "        row_data = pd.read_csv(message_data, header=None, names=['empresa', 'pais', 'precioLY', 'precioCY'])\n",
    "\n",
    "        plot_df = pd.concat([plot_df, row_data], ignore_index=True)\n",
    "\n",
    "        empresasunicas = plot_df['empresa'].unique()\n",
    "        bar_width = 0.35  # Ancho de las barras\n",
    "        for valempresa in empresasunicas:\n",
    "            data_empresa = plot_df[plot_df['empresa'] == valempresa]\n",
    "            indices = range(len(data_empresa))\n",
    "            plt.figure(figsize=(10, 6))\n",
    "            plt.bar(indices, data_empresa['precioLY'], width=bar_width, label='precioLY')\n",
    "            plt.bar([i + bar_width for i in indices], data_empresa['precioCY'], width=bar_width, label='precioCY')\n",
    "            plt.title(f'Comparativa de Precio para {valempresa}')\n",
    "            plt.xlabel('Índice')\n",
    "            plt.ylabel('Precio')\n",
    "            plt.xticks([i + bar_width / 2 for i in indices], indices)\n",
    "            plt.legend()\n",
    "            plt.show()\n",
    "\n",
    "except KeyboardInterrupt:\n",
    "    pass\n",
    "finally:\n",
    "    c.close()"
   ]
  }
 ],
 "metadata": {
  "kernelspec": {
   "display_name": "Python 3",
   "language": "python",
   "name": "python3"
  },
  "language_info": {
   "codemirror_mode": {
    "name": "ipython",
    "version": 3
   },
   "file_extension": ".py",
   "mimetype": "text/x-python",
   "name": "python",
   "nbconvert_exporter": "python",
   "pygments_lexer": "ipython3",
   "version": "3.10.12"
  }
 },
 "nbformat": 4,
 "nbformat_minor": 2
}
