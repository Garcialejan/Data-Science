{
 "cells": [
  {
   "cell_type": "markdown",
   "metadata": {},
   "source": [
    "Importar Librearías"
   ]
  },
  {
   "cell_type": "code",
   "execution_count": null,
   "metadata": {},
   "outputs": [],
   "source": [
    "from confluent_kafka import Producer, Consumer\n",
    "import random\n",
    "import pandas as pd"
   ]
  },
  {
   "cell_type": "markdown",
   "metadata": {},
   "source": [
    "Productor"
   ]
  },
  {
   "cell_type": "code",
   "execution_count": null,
   "metadata": {},
   "outputs": [],
   "source": [
    "p = Producer({'bootstrap.servers': 'localhost:9092'})\n",
    "\n",
    "for i in range(100):\n",
    "    data_producer = {'num_aleatorio': random.randint(1, 10)}\n",
    "    p.produce('testtopic', str(data_producer))\n",
    "\n",
    "p.flush()"
   ]
  },
  {
   "cell_type": "markdown",
   "metadata": {},
   "source": [
    "Consumidor"
   ]
  },
  {
   "cell_type": "code",
   "execution_count": null,
   "metadata": {},
   "outputs": [],
   "source": [
    "c = Consumer({'bootstrap.servers': 'localhost:9092', 'group.id': 'migrupo', 'auto.offset.reset': 'earliest'})\n",
    "c.subscribe(['testtopic'])\n",
    "\n",
    "data_consumer = []\n",
    "\n",
    "try:\n",
    "    while True:\n",
    "        msg = c.poll(1.0)\n",
    "        if msg is None:\n",
    "            print(\"No hay ningún mensaje\")\n",
    "            continue\n",
    "        if msg.error():\n",
    "            print('Error: {}'.format(msg.error()))\n",
    "            continue\n",
    "        #print('El mensaje recibido es: {}'.format(msg.value().decode('utf-8')))\n",
    "        data_consumer.append(msg.value().decode('utf-8'))\n",
    "\n",
    "except KeyboardInterrupt:\n",
    "    pass\n",
    "finally:\n",
    "    c.close()"
   ]
  },
  {
   "cell_type": "markdown",
   "metadata": {},
   "source": [
    "Mostrar DataFrame"
   ]
  },
  {
   "cell_type": "code",
   "execution_count": null,
   "metadata": {},
   "outputs": [],
   "source": [
    "df = pd.DataFrame(data_consumer)\n",
    "print(df.describe())\n",
    "print(df)"
   ]
  }
 ],
 "metadata": {
  "kernelspec": {
   "display_name": "Python 3",
   "language": "python",
   "name": "python3"
  },
  "language_info": {
   "codemirror_mode": {
    "name": "ipython",
    "version": 3
   },
   "file_extension": ".py",
   "mimetype": "text/x-python",
   "name": "python",
   "nbconvert_exporter": "python",
   "pygments_lexer": "ipython3",
   "version": "3.10.12"
  }
 },
 "nbformat": 4,
 "nbformat_minor": 2
}
