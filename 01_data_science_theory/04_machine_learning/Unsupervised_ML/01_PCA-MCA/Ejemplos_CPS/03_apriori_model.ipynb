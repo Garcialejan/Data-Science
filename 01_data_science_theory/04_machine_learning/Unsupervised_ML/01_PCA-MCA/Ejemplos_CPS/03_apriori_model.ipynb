{
 "cells": [
  {
   "cell_type": "code",
   "execution_count": 2,
   "metadata": {},
   "outputs": [],
   "source": [
    "import pandas as pd\n",
    "import missingno as msno\n",
    "\n",
    "from functions import *\n",
    "from plots import *\n",
    "\n",
    "from sklearn.preprocessing import MinMaxScaler, OneHotEncoder\n",
    "from mlxtend.frequent_patterns import apriori, association_rules"
   ]
  },
  {
   "cell_type": "code",
   "execution_count": 3,
   "metadata": {},
   "outputs": [],
   "source": [
    "data_path = r'C:\\Users\\alejandro.gc\\Desktop\\Proyectos\\Accidentalidad\\Accidentes_VALENCIA\\data\\CLEAN_DATA\\clean_data.xlsx'"
   ]
  },
  {
   "cell_type": "code",
   "execution_count": 4,
   "metadata": {},
   "outputs": [],
   "source": [
    "hojas = [\"Accidentes\", \"Vias\", \"Tramos\", \"Personas\", \"Vehiculos\"]\n",
    "dfs = {}\n",
    "for hoja in hojas:\n",
    "    dfs[hoja] = pd.read_excel(data_path, sheet_name=hoja)\n",
    "\n",
    "df_accidentes = dfs[\"Accidentes\"]\n",
    "df_vias = dfs[\"Vias\"]\n",
    "df_tramos = dfs[\"Tramos\"]\n",
    "df_personas = dfs[\"Personas\"]\n",
    "df_vehiculos = dfs[\"Vehiculos\"]"
   ]
  },
  {
   "cell_type": "code",
   "execution_count": 5,
   "metadata": {},
   "outputs": [],
   "source": [
    "df_accidentes['factores concurrentes'] = df_accidentes['factores concurrentes'].str.split('; ')\n",
    "\n",
    "causas_unicas = set(causa for causas in df_accidentes['factores concurrentes'] for causa in causas)"
   ]
  },
  {
   "cell_type": "code",
   "execution_count": 6,
   "metadata": {},
   "outputs": [],
   "source": [
    "# Se crean columnas para cada causa única y se asignan valores binarios\n",
    "for causa in causas_unicas:\n",
    "    df_accidentes[causa] = df_accidentes['factores concurrentes'].apply(lambda x: 1 if causa in x else 0)\n",
    "\n",
    "# Eliminar la columna original si ya no es necesaria\n",
    "df_accidentes = df_accidentes.drop(columns=['factores concurrentes'])"
   ]
  },
  {
   "cell_type": "code",
   "execution_count": 7,
   "metadata": {},
   "outputs": [],
   "source": [
    "estandarizar_columnas(df_accidentes);"
   ]
  },
  {
   "cell_type": "code",
   "execution_count": 8,
   "metadata": {},
   "outputs": [],
   "source": [
    "lista_causas = ['cansancio o sueno', 'estado o condicion de la senalizacion',\n",
    "                'adelantamiento antirreglamentario', 'mal estado del vehiculo',\n",
    "                'conduccion temeraria', 'meteorologia adversa', 'conduccion distraida',\n",
    "                'no mantener intervalo de seguridad', 'enfermedad', 'desconocido',\n",
    "                'drogas', 'tramo en obras', 'estado o condicion de la via',\n",
    "                'irrumpir animal en calzada', 'alcohol','irrupcion peaton en la calzada', \n",
    "                'no respetar la prioridad', 'inexperiencia conductor', 'averia mecanica', \n",
    "                'velocidad inadecuada','obstaculo en la calzada', 'conduccion negligente', \n",
    "                'otro factor', 'giro incorrecto']"
   ]
  },
  {
   "cell_type": "markdown",
   "metadata": {},
   "source": [
    "## Datos de personas y vehículos"
   ]
  },
  {
   "cell_type": "markdown",
   "metadata": {},
   "source": [
    "- El objetivo de este apartado es buscar posibles relaciones/correclaciones que puedan existir entre las personas implicadas en los accidentes y los vehículos que estas conducían o en los que se encontraban como pasajeros.\n",
    "- Además, se va asignar el tipo de víctima en función de las lesiones sufridas"
   ]
  },
  {
   "cell_type": "code",
   "execution_count": 9,
   "metadata": {},
   "outputs": [
    {
     "data": {
      "text/plain": [
       "lesividad\n",
       "Se desconoce                                                 4030\n",
       "Sin asistencia sanitaria                                     1302\n",
       "Ingreso inferior o igual a 24 horas                           804\n",
       "Atención en urgencias sin posterior ingreso                   627\n",
       "Asistencia sanitaria inmediata en centro de salud o mutua     252\n",
       "Ingreso superior a 24 horas                                   219\n",
       "Asistencia sanitaria solo en el lugar del accidente           198\n",
       "Asistencia sanitaria ambulatoria con posterioridad            173\n",
       "Fallecido 24 horas                                             51\n",
       "Name: count, dtype: int64"
      ]
     },
     "execution_count": 9,
     "metadata": {},
     "output_type": "execute_result"
    }
   ],
   "source": [
    "# Se analizan los tipos de lesiones existentes\n",
    "df_personas[\"lesividad\"].value_counts()"
   ]
  },
  {
   "cell_type": "code",
   "execution_count": 10,
   "metadata": {},
   "outputs": [],
   "source": [
    "# Se definen las agrupaciones de víctimas en función del tipo de lesión\n",
    "mortales = ['Fallecido 24 horas']\n",
    "\n",
    "graves = ['Ingreso superior a 24 horas']\n",
    "\n",
    "leves = ['Ingreso inferior o igual a 24 horas', 'Atención en urgencias sin posterior ingreso', \n",
    "         'Asistencia sanitaria inmediata en centro de salud o mutua', 'Asistencia sanitaria solo en el lugar del accidente',\n",
    "         'Asistencia sanitaria ambulatoria con posterioridad']\n",
    "\n",
    "ilesos = [\"Sin asistencia sanitaria\"]\n",
    "\n",
    "se_desconoce = [\"Se desconoce\"]"
   ]
  },
  {
   "cell_type": "code",
   "execution_count": 11,
   "metadata": {},
   "outputs": [],
   "source": [
    "# Se crean nuevas columnas con valores booleanos para definir el tipo de vehículo\n",
    "tipos_victimas = {\n",
    "    'mortal': mortales,\n",
    "    'grave': graves,\n",
    "    'leve': leves,\n",
    "    'ileso': ilesos,\n",
    "    'se desconoce': se_desconoce\n",
    "}\n",
    "clasificar_víctimas(df_personas, tipos_victimas, \"lesividad\");\n",
    "\n",
    "df_personas['tipo de victima'] = df_personas.apply(asignar_tipo_victima, axis=1)"
   ]
  },
  {
   "cell_type": "code",
   "execution_count": 12,
   "metadata": {},
   "outputs": [],
   "source": [
    "lista_del_cols = [\"lesividad\", \"mortal\", \"grave\", \"leve\", \"ileso\", \"se desconoce\"]\n",
    "\n",
    "drop_columns_df(df_personas, lista_del_cols)"
   ]
  },
  {
   "cell_type": "markdown",
   "metadata": {},
   "source": [
    "## Datos de conductores y tipo de vehículos"
   ]
  },
  {
   "cell_type": "code",
   "execution_count": 13,
   "metadata": {},
   "outputs": [],
   "source": [
    "# Nos centraremos simplemente en los conductores\n",
    "mask_conductores = df_personas[\"posicion\"] == \"Conductor\"\n",
    "\n",
    "df_conductores = df_personas[mask_conductores]"
   ]
  },
  {
   "cell_type": "code",
   "execution_count": 14,
   "metadata": {},
   "outputs": [
    {
     "data": {
      "text/plain": [
       "codigo del accidente                  0\n",
       "identificador                         0\n",
       "presunto responsable                  0\n",
       "presunto error                        0\n",
       "vehiculo                              0\n",
       "posicion                              0\n",
       "posicion en el vehiculo               0\n",
       "sexo                                  0\n",
       "edad                                 51\n",
       "motivo de desplazamiento              0\n",
       "desplazamiento previsto               0\n",
       "tipo de permiso                       0\n",
       "caracteristica del permiso            0\n",
       "factor de atencion                    0\n",
       "signos alcohol                        0\n",
       "tasa de alcohol 1                     0\n",
       "signos drogas                         0\n",
       "casco                                 0\n",
       "cinturon de seguridad                 0\n",
       "accion del peaton                     0\n",
       "presunta infraccion del conductor     0\n",
       "presunta infraccion de velocidad      0\n",
       "presunta infraccion del peaton        0\n",
       "bicicleta                             0\n",
       "camion                                0\n",
       "furgoneta                             0\n",
       "maquinaria obra agricola              0\n",
       "motocicleta                           0\n",
       "turismo                               0\n",
       "vmp                                   0\n",
       "otro                                  0\n",
       "rango edad                            0\n",
       "rango alcohol                         0\n",
       "tipo de victima                       0\n",
       "dtype: int64"
      ]
     },
     "execution_count": 14,
     "metadata": {},
     "output_type": "execute_result"
    }
   ],
   "source": [
    "df_conductores.isna().sum()"
   ]
  },
  {
   "cell_type": "code",
   "execution_count": 15,
   "metadata": {},
   "outputs": [],
   "source": [
    "# Se eliminana los nulos que hay en la columna de edad porque no hay un tratamiento obvio\n",
    "# Antes que imputar la moda o la media, es mejor eliminar dichos valores para no introducir\n",
    "# variaciones en la distribución y el comportamiento de los conductores.\n",
    "\n",
    "df_conductores = df_conductores.dropna()"
   ]
  },
  {
   "cell_type": "code",
   "execution_count": 16,
   "metadata": {},
   "outputs": [],
   "source": [
    "# Se elimanan una serie de columnas, las cuales se van a considerar irrelevantes para \n",
    "# este modelo/caso de estudio.\n",
    "\n",
    "lista_del_cols = [\"codigo del accidente\", \"identificador\", \"vehiculo\", \"posicion\", \"edad\", \"tasa de alcohol 1\"]\n",
    "\n",
    "drop_columns_df(df_conductores, lista_del_cols)"
   ]
  },
  {
   "cell_type": "code",
   "execution_count": 17,
   "metadata": {},
   "outputs": [
    {
     "name": "stdout",
     "output_type": "stream",
     "text": [
      "<class 'pandas.core.frame.DataFrame'>\n",
      "Index: 5611 entries, 0 to 7655\n",
      "Data columns (total 28 columns):\n",
      " #   Column                             Non-Null Count  Dtype \n",
      "---  ------                             --------------  ----- \n",
      " 0   presunto responsable               5611 non-null   object\n",
      " 1   presunto error                     5611 non-null   object\n",
      " 2   posicion en el vehiculo            5611 non-null   object\n",
      " 3   sexo                               5611 non-null   object\n",
      " 4   motivo de desplazamiento           5611 non-null   object\n",
      " 5   desplazamiento previsto            5611 non-null   object\n",
      " 6   tipo de permiso                    5611 non-null   object\n",
      " 7   caracteristica del permiso         5611 non-null   object\n",
      " 8   factor de atencion                 5611 non-null   object\n",
      " 9   signos alcohol                     5611 non-null   object\n",
      " 10  signos drogas                      5611 non-null   object\n",
      " 11  casco                              5611 non-null   object\n",
      " 12  cinturon de seguridad              5611 non-null   object\n",
      " 13  accion del peaton                  5611 non-null   object\n",
      " 14  presunta infraccion del conductor  5611 non-null   object\n",
      " 15  presunta infraccion de velocidad   5611 non-null   object\n",
      " 16  presunta infraccion del peaton     5611 non-null   object\n",
      " 17  bicicleta                          5611 non-null   int64 \n",
      " 18  camion                             5611 non-null   int64 \n",
      " 19  furgoneta                          5611 non-null   int64 \n",
      " 20  maquinaria obra agricola           5611 non-null   int64 \n",
      " 21  motocicleta                        5611 non-null   int64 \n",
      " 22  turismo                            5611 non-null   int64 \n",
      " 23  vmp                                5611 non-null   int64 \n",
      " 24  otro                               5611 non-null   int64 \n",
      " 25  rango edad                         5611 non-null   object\n",
      " 26  rango alcohol                      5611 non-null   object\n",
      " 27  tipo de victima                    5611 non-null   object\n",
      "dtypes: int64(8), object(20)\n",
      "memory usage: 1.2+ MB\n"
     ]
    }
   ],
   "source": [
    "df_conductores.info()"
   ]
  },
  {
   "cell_type": "code",
   "execution_count": 18,
   "metadata": {},
   "outputs": [
    {
     "data": {
      "text/plain": [
       "rango alcohol\n",
       "No prueba/no positivo    5042\n",
       "De 0.51 a 1 mg/l          324\n",
       "De 0.26 a 0.5 mg/l        123\n",
       "Más de 1 mg/l              57\n",
       "Inferior a 0.15 mg/l       35\n",
       "De 0.16 a 0.25 mg/l        30\n",
       "Name: count, dtype: int64"
      ]
     },
     "execution_count": 18,
     "metadata": {},
     "output_type": "execute_result"
    }
   ],
   "source": [
    "df_conductores[\"rango alcohol\"].value_counts()"
   ]
  },
  {
   "cell_type": "code",
   "execution_count": 19,
   "metadata": {},
   "outputs": [
    {
     "data": {
      "text/plain": [
       "Index(['bicicleta', 'camion', 'furgoneta', 'maquinaria obra agricola',\n",
       "       'motocicleta', 'turismo', 'vmp', 'otro'],\n",
       "      dtype='object')"
      ]
     },
     "execution_count": 19,
     "metadata": {},
     "output_type": "execute_result"
    }
   ],
   "source": [
    "numeric_cols = df_conductores.select_dtypes(['number']).columns\n",
    "numeric_cols"
   ]
  },
  {
   "cell_type": "code",
   "execution_count": 20,
   "metadata": {},
   "outputs": [],
   "source": [
    "vehicle_columns = numeric_cols\n",
    "df_conductores = agrupar_vehiculo(df_conductores, vehicle_columns)"
   ]
  },
  {
   "cell_type": "code",
   "execution_count": 21,
   "metadata": {},
   "outputs": [
    {
     "name": "stdout",
     "output_type": "stream",
     "text": [
      "<class 'pandas.core.frame.DataFrame'>\n",
      "Index: 5611 entries, 0 to 7655\n",
      "Data columns (total 21 columns):\n",
      " #   Column                             Non-Null Count  Dtype \n",
      "---  ------                             --------------  ----- \n",
      " 0   presunto responsable               5611 non-null   object\n",
      " 1   presunto error                     5611 non-null   object\n",
      " 2   posicion en el vehiculo            5611 non-null   object\n",
      " 3   sexo                               5611 non-null   object\n",
      " 4   motivo de desplazamiento           5611 non-null   object\n",
      " 5   desplazamiento previsto            5611 non-null   object\n",
      " 6   tipo de permiso                    5611 non-null   object\n",
      " 7   caracteristica del permiso         5611 non-null   object\n",
      " 8   factor de atencion                 5611 non-null   object\n",
      " 9   signos alcohol                     5611 non-null   object\n",
      " 10  signos drogas                      5611 non-null   object\n",
      " 11  casco                              5611 non-null   object\n",
      " 12  cinturon de seguridad              5611 non-null   object\n",
      " 13  accion del peaton                  5611 non-null   object\n",
      " 14  presunta infraccion del conductor  5611 non-null   object\n",
      " 15  presunta infraccion de velocidad   5611 non-null   object\n",
      " 16  presunta infraccion del peaton     5611 non-null   object\n",
      " 17  rango edad                         5611 non-null   object\n",
      " 18  rango alcohol                      5611 non-null   object\n",
      " 19  tipo de victima                    5611 non-null   object\n",
      " 20  tipo de vehiculo                   5611 non-null   object\n",
      "dtypes: object(21)\n",
      "memory usage: 1.1+ MB\n"
     ]
    }
   ],
   "source": [
    "df_conductores.info()"
   ]
  },
  {
   "cell_type": "markdown",
   "metadata": {},
   "source": [
    "- Buscamos correlaciones/reglas de asociación con el objetivo de identificar, en función del tipo de víctima, qué variables pueden dar una mayor importancia.\n",
    "- Recordar que debemos estandarizar las columnas categoricas a númercas. Para ello utilizaremos el OneHotEncoder. Para la columna edad, estandarizaremos los valores con el MinMaxScaler."
   ]
  },
  {
   "cell_type": "code",
   "execution_count": 22,
   "metadata": {},
   "outputs": [],
   "source": [
    "# Separamos en target y features para realizar nuestro modelo\n",
    "features = df_conductores.drop(columns = \"tipo de victima\")\n",
    "target = df_conductores[\"tipo de victima\"]"
   ]
  },
  {
   "cell_type": "code",
   "execution_count": 23,
   "metadata": {},
   "outputs": [],
   "source": [
    "target = target.reset_index().drop(\"index\", axis = 1)"
   ]
  },
  {
   "cell_type": "code",
   "execution_count": 24,
   "metadata": {},
   "outputs": [],
   "source": [
    "# Usamos OneHotEncoder para convertir las variables categóricas en formato binario\n",
    "encoder = OneHotEncoder(drop = \"if_binary\", sparse_output = False)\n",
    "\n",
    "encoded_features  = encoder.fit_transform(features)"
   ]
  },
  {
   "cell_type": "code",
   "execution_count": 25,
   "metadata": {},
   "outputs": [],
   "source": [
    "# Convertimos a DataFrame los datos codificados\n",
    "df_cod_fin = pd.DataFrame(encoded_features, columns=encoder.get_feature_names_out(features.columns))"
   ]
  },
  {
   "cell_type": "code",
   "execution_count": 26,
   "metadata": {},
   "outputs": [],
   "source": [
    "# Se añade nuestro target al dataframe\n",
    "df_cod_fin['tipo de victima'] = target"
   ]
  },
  {
   "cell_type": "markdown",
   "metadata": {},
   "source": [
    "## Realizamos el análisis en función de tipo de víctima"
   ]
  },
  {
   "cell_type": "code",
   "execution_count": 27,
   "metadata": {},
   "outputs": [
    {
     "data": {
      "text/plain": [
       "array(['se desconoce', 'victima leve', 'ileso', 'victima grave',\n",
       "       'victima mortal'], dtype=object)"
      ]
     },
     "execution_count": 27,
     "metadata": {},
     "output_type": "execute_result"
    }
   ],
   "source": [
    "df_cod_fin[\"tipo de victima\"].unique()"
   ]
  },
  {
   "cell_type": "code",
   "execution_count": 28,
   "metadata": {},
   "outputs": [],
   "source": [
    "def dividir_column(df, column):\n",
    "    # Inicializa las columnas a 0\n",
    "    df[\"victima mortal\"] = 0\n",
    "    df[\"victima grave\"] = 0\n",
    "    df[\"victima leve\"] = 0\n",
    "    df[\"ileso\"] = 0\n",
    "    df[\"se desconoce\"] = 0\n",
    "\n",
    "    # Usando np.where para asignar valores de forma condicional\n",
    "    df[\"victima mortal\"] = np.where(df[column] == \"victima mortal\", 1, 0)\n",
    "    df[\"victima grave\"] = np.where(df[column] == \"victima grave\", 1, 0)\n",
    "    df[\"victima leve\"] = np.where(df[column] == \"victima leve\", 1, 0)\n",
    "    df[\"ileso\"] = np.where(df[column] == \"ileso\", 1, 0)\n",
    "    df[\"se desconoce\"] = np.where(~df[column].isin([\"victima mortal\", \"victima grave\", \"victima leve\", \"ileso\"]), 1, 0)\n",
    "    \n",
    "    return df"
   ]
  },
  {
   "cell_type": "code",
   "execution_count": 29,
   "metadata": {},
   "outputs": [],
   "source": [
    "dividir_column(df_cod_fin, \"tipo de victima\");"
   ]
  },
  {
   "cell_type": "code",
   "execution_count": 30,
   "metadata": {},
   "outputs": [],
   "source": [
    "df_cod_global = df_cod_fin.drop(columns = \"tipo de victima\", axis = 1)"
   ]
  },
  {
   "cell_type": "code",
   "execution_count": 31,
   "metadata": {},
   "outputs": [
    {
     "name": "stderr",
     "output_type": "stream",
     "text": [
      "C:\\Users\\alejandro.gc\\AppData\\Local\\Temp\\ipykernel_29548\\3144679816.py:1: FutureWarning: Downcasting behavior in `replace` is deprecated and will be removed in a future version. To retain the old behavior, explicitly call `result.infer_objects(copy=False)`. To opt-in to the future behavior, set `pd.set_option('future.no_silent_downcasting', True)`\n",
      "  df_cod_global = df_cod_global.replace({0: False, 1: True})\n"
     ]
    }
   ],
   "source": [
    "df_cod_global = df_cod_global.replace({0: False, 1: True})"
   ]
  },
  {
   "cell_type": "code",
   "execution_count": 32,
   "metadata": {},
   "outputs": [
    {
     "data": {
      "text/html": [
       "<div>\n",
       "<style scoped>\n",
       "    .dataframe tbody tr th:only-of-type {\n",
       "        vertical-align: middle;\n",
       "    }\n",
       "\n",
       "    .dataframe tbody tr th {\n",
       "        vertical-align: top;\n",
       "    }\n",
       "\n",
       "    .dataframe thead th {\n",
       "        text-align: right;\n",
       "    }\n",
       "</style>\n",
       "<table border=\"1\" class=\"dataframe\">\n",
       "  <thead>\n",
       "    <tr style=\"text-align: right;\">\n",
       "      <th></th>\n",
       "      <th>presunto responsable_NO</th>\n",
       "      <th>presunto responsable_Se desconoce</th>\n",
       "      <th>presunto responsable_SÍ</th>\n",
       "      <th>presunto error_Ejecución incorrecta de maniobra o maniobra inadecuada</th>\n",
       "      <th>presunto error_Indecisión, demora o retraso en tomar una decisión</th>\n",
       "      <th>presunto error_No entender una señal de tráfico o confundirla</th>\n",
       "      <th>presunto error_No se aprecian errores</th>\n",
       "      <th>presunto error_No ver un vehículo/peatón/obstáculo...</th>\n",
       "      <th>presunto error_No ver una señal</th>\n",
       "      <th>presunto error_Olvidos (intermitentes, luces...)</th>\n",
       "      <th>...</th>\n",
       "      <th>tipo de vehiculo_furgoneta</th>\n",
       "      <th>tipo de vehiculo_maquinaria obra agricola</th>\n",
       "      <th>tipo de vehiculo_motocicleta</th>\n",
       "      <th>tipo de vehiculo_otro</th>\n",
       "      <th>tipo de vehiculo_turismo</th>\n",
       "      <th>victima mortal</th>\n",
       "      <th>victima grave</th>\n",
       "      <th>victima leve</th>\n",
       "      <th>ileso</th>\n",
       "      <th>se desconoce</th>\n",
       "    </tr>\n",
       "  </thead>\n",
       "  <tbody>\n",
       "    <tr>\n",
       "      <th>0</th>\n",
       "      <td>False</td>\n",
       "      <td>False</td>\n",
       "      <td>True</td>\n",
       "      <td>False</td>\n",
       "      <td>False</td>\n",
       "      <td>False</td>\n",
       "      <td>False</td>\n",
       "      <td>False</td>\n",
       "      <td>False</td>\n",
       "      <td>False</td>\n",
       "      <td>...</td>\n",
       "      <td>False</td>\n",
       "      <td>False</td>\n",
       "      <td>False</td>\n",
       "      <td>False</td>\n",
       "      <td>True</td>\n",
       "      <td>False</td>\n",
       "      <td>False</td>\n",
       "      <td>False</td>\n",
       "      <td>False</td>\n",
       "      <td>True</td>\n",
       "    </tr>\n",
       "    <tr>\n",
       "      <th>1</th>\n",
       "      <td>False</td>\n",
       "      <td>False</td>\n",
       "      <td>True</td>\n",
       "      <td>False</td>\n",
       "      <td>False</td>\n",
       "      <td>False</td>\n",
       "      <td>True</td>\n",
       "      <td>False</td>\n",
       "      <td>False</td>\n",
       "      <td>False</td>\n",
       "      <td>...</td>\n",
       "      <td>False</td>\n",
       "      <td>False</td>\n",
       "      <td>True</td>\n",
       "      <td>False</td>\n",
       "      <td>False</td>\n",
       "      <td>False</td>\n",
       "      <td>False</td>\n",
       "      <td>True</td>\n",
       "      <td>False</td>\n",
       "      <td>False</td>\n",
       "    </tr>\n",
       "    <tr>\n",
       "      <th>2</th>\n",
       "      <td>False</td>\n",
       "      <td>False</td>\n",
       "      <td>True</td>\n",
       "      <td>False</td>\n",
       "      <td>False</td>\n",
       "      <td>False</td>\n",
       "      <td>False</td>\n",
       "      <td>False</td>\n",
       "      <td>False</td>\n",
       "      <td>False</td>\n",
       "      <td>...</td>\n",
       "      <td>False</td>\n",
       "      <td>False</td>\n",
       "      <td>False</td>\n",
       "      <td>False</td>\n",
       "      <td>True</td>\n",
       "      <td>False</td>\n",
       "      <td>False</td>\n",
       "      <td>True</td>\n",
       "      <td>False</td>\n",
       "      <td>False</td>\n",
       "    </tr>\n",
       "    <tr>\n",
       "      <th>3</th>\n",
       "      <td>False</td>\n",
       "      <td>False</td>\n",
       "      <td>True</td>\n",
       "      <td>True</td>\n",
       "      <td>False</td>\n",
       "      <td>False</td>\n",
       "      <td>False</td>\n",
       "      <td>False</td>\n",
       "      <td>False</td>\n",
       "      <td>False</td>\n",
       "      <td>...</td>\n",
       "      <td>False</td>\n",
       "      <td>False</td>\n",
       "      <td>False</td>\n",
       "      <td>False</td>\n",
       "      <td>True</td>\n",
       "      <td>False</td>\n",
       "      <td>False</td>\n",
       "      <td>True</td>\n",
       "      <td>False</td>\n",
       "      <td>False</td>\n",
       "    </tr>\n",
       "    <tr>\n",
       "      <th>4</th>\n",
       "      <td>False</td>\n",
       "      <td>False</td>\n",
       "      <td>True</td>\n",
       "      <td>False</td>\n",
       "      <td>False</td>\n",
       "      <td>False</td>\n",
       "      <td>True</td>\n",
       "      <td>False</td>\n",
       "      <td>False</td>\n",
       "      <td>False</td>\n",
       "      <td>...</td>\n",
       "      <td>False</td>\n",
       "      <td>False</td>\n",
       "      <td>False</td>\n",
       "      <td>False</td>\n",
       "      <td>False</td>\n",
       "      <td>False</td>\n",
       "      <td>False</td>\n",
       "      <td>True</td>\n",
       "      <td>False</td>\n",
       "      <td>False</td>\n",
       "    </tr>\n",
       "  </tbody>\n",
       "</table>\n",
       "<p>5 rows × 137 columns</p>\n",
       "</div>"
      ],
      "text/plain": [
       "   presunto responsable_NO  presunto responsable_Se desconoce  \\\n",
       "0                    False                              False   \n",
       "1                    False                              False   \n",
       "2                    False                              False   \n",
       "3                    False                              False   \n",
       "4                    False                              False   \n",
       "\n",
       "   presunto responsable_SÍ  \\\n",
       "0                     True   \n",
       "1                     True   \n",
       "2                     True   \n",
       "3                     True   \n",
       "4                     True   \n",
       "\n",
       "   presunto error_Ejecución incorrecta de maniobra o maniobra inadecuada  \\\n",
       "0                                              False                       \n",
       "1                                              False                       \n",
       "2                                              False                       \n",
       "3                                               True                       \n",
       "4                                              False                       \n",
       "\n",
       "   presunto error_Indecisión, demora o retraso en tomar una decisión  \\\n",
       "0                                              False                   \n",
       "1                                              False                   \n",
       "2                                              False                   \n",
       "3                                              False                   \n",
       "4                                              False                   \n",
       "\n",
       "   presunto error_No entender una señal de tráfico o confundirla  \\\n",
       "0                                              False               \n",
       "1                                              False               \n",
       "2                                              False               \n",
       "3                                              False               \n",
       "4                                              False               \n",
       "\n",
       "   presunto error_No se aprecian errores  \\\n",
       "0                                  False   \n",
       "1                                   True   \n",
       "2                                  False   \n",
       "3                                  False   \n",
       "4                                   True   \n",
       "\n",
       "   presunto error_No ver un vehículo/peatón/obstáculo...  \\\n",
       "0                                              False       \n",
       "1                                              False       \n",
       "2                                              False       \n",
       "3                                              False       \n",
       "4                                              False       \n",
       "\n",
       "   presunto error_No ver una señal  \\\n",
       "0                            False   \n",
       "1                            False   \n",
       "2                            False   \n",
       "3                            False   \n",
       "4                            False   \n",
       "\n",
       "   presunto error_Olvidos (intermitentes, luces...)  ...  \\\n",
       "0                                             False  ...   \n",
       "1                                             False  ...   \n",
       "2                                             False  ...   \n",
       "3                                             False  ...   \n",
       "4                                             False  ...   \n",
       "\n",
       "   tipo de vehiculo_furgoneta  tipo de vehiculo_maquinaria obra agricola  \\\n",
       "0                       False                                      False   \n",
       "1                       False                                      False   \n",
       "2                       False                                      False   \n",
       "3                       False                                      False   \n",
       "4                       False                                      False   \n",
       "\n",
       "   tipo de vehiculo_motocicleta  tipo de vehiculo_otro  \\\n",
       "0                         False                  False   \n",
       "1                          True                  False   \n",
       "2                         False                  False   \n",
       "3                         False                  False   \n",
       "4                         False                  False   \n",
       "\n",
       "   tipo de vehiculo_turismo  victima mortal  victima grave  victima leve  \\\n",
       "0                      True           False          False         False   \n",
       "1                     False           False          False          True   \n",
       "2                      True           False          False          True   \n",
       "3                      True           False          False          True   \n",
       "4                     False           False          False          True   \n",
       "\n",
       "   ileso  se desconoce  \n",
       "0  False          True  \n",
       "1  False         False  \n",
       "2  False         False  \n",
       "3  False         False  \n",
       "4  False         False  \n",
       "\n",
       "[5 rows x 137 columns]"
      ]
     },
     "execution_count": 32,
     "metadata": {},
     "output_type": "execute_result"
    }
   ],
   "source": [
    "df_cod_global.head()"
   ]
  },
  {
   "cell_type": "code",
   "execution_count": null,
   "metadata": {},
   "outputs": [],
   "source": [
    "from mlxtend.frequent_patterns import apriori, association_rules\n",
    "import numpy as np\n",
    "\n",
    "# Función para calcular los itemsets frecuentes\n",
    "def compute_frequent_itemsets(df, min_support):\n",
    "    return apriori(df, min_support=min_support, use_colnames=True)\n",
    "\n",
    "# Función para calcular las reglas de asociación\n",
    "def compute_association_rules(frequent_itemsets, metric, min_threshold):\n",
    "    return association_rules(frequent_itemsets, metric=metric, min_threshold=min_threshold)\n",
    "\n",
    "# Dividir el DataFrame en partes para procesar en paralelo\n",
    "def chunk_data(df, n_chunks):\n",
    "    return np.array_split(df, n_chunks)"
   ]
  },
  {
   "cell_type": "code",
   "execution_count": 34,
   "metadata": {},
   "outputs": [
    {
     "data": {
      "text/plain": [
       "16"
      ]
     },
     "execution_count": 34,
     "metadata": {},
     "output_type": "execute_result"
    }
   ],
   "source": [
    "import os \n",
    "\n",
    "n_cores = os.cpu_count()\n",
    "n_cores"
   ]
  },
  {
   "cell_type": "code",
   "execution_count": null,
   "metadata": {},
   "outputs": [],
   "source": [
    "from joblib import Parallel, delayed\n",
    "\n",
    "# Soporte mínimo que debe tener un conjunto de items/variables para ser considerado frecuente\n",
    "min_support = 0.1\n",
    "\n",
    "# Confidence mide la probabilidad de que un item/variable esté presente en una \n",
    "# transacción dado otro conjunto de ítems/variables presentes\n",
    "metric = \"confidence\"\n",
    "\n",
    "# Utilizado para establecer un umbral mínimo para la métrica, significa que solo \n",
    "# se mantendrán aquellas reglas de asociación cuya confianza sea mayor o igual al X %\n",
    "min_threshold = 0.1\n",
    "\n",
    "# Dividir los datos en n partes\n",
    "data_chunks_glob = chunk_data(df_cod_global, 4)\n",
    "\n",
    "# Calcular los itemsets en paralelo\n",
    "frequent_itemsets_list = Parallel(n_jobs=-1)(\n",
    "    delayed(compute_frequent_itemsets)(chunk, min_support) for chunk in data_chunks_glob\n",
    ")\n",
    "\n",
    "# Combinar los resultados de los itemsets frecuentes\n",
    "frequent_itemsets_combined = pd.concat(frequent_itemsets_list, ignore_index=True)\n",
    "\n",
    "# Generar las reglas de asociación\n",
    "rules_glob = compute_association_rules(frequent_itemsets_combined, metric, min_threshold)"
   ]
  },
  {
   "cell_type": "code",
   "execution_count": 343,
   "metadata": {},
   "outputs": [],
   "source": [
    "rules_glob[\"antecedent_len\"] = rules_glob[\"antecedents\"].apply(lambda x: len(x))"
   ]
  },
  {
   "cell_type": "code",
   "execution_count": 344,
   "metadata": {},
   "outputs": [],
   "source": [
    "rules_glob_vict = rules_glob[rules_glob['consequents'].str.contains(\"victima\", case=False, na=False)]"
   ]
  },
  {
   "cell_type": "code",
   "execution_count": 345,
   "metadata": {},
   "outputs": [
    {
     "data": {
      "text/html": [
       "<div>\n",
       "<style scoped>\n",
       "    .dataframe tbody tr th:only-of-type {\n",
       "        vertical-align: middle;\n",
       "    }\n",
       "\n",
       "    .dataframe tbody tr th {\n",
       "        vertical-align: top;\n",
       "    }\n",
       "\n",
       "    .dataframe thead th {\n",
       "        text-align: right;\n",
       "    }\n",
       "</style>\n",
       "<table border=\"1\" class=\"dataframe\">\n",
       "  <thead>\n",
       "    <tr style=\"text-align: right;\">\n",
       "      <th></th>\n",
       "      <th>antecedents</th>\n",
       "      <th>consequents</th>\n",
       "      <th>antecedent support</th>\n",
       "      <th>consequent support</th>\n",
       "      <th>support</th>\n",
       "      <th>confidence</th>\n",
       "      <th>lift</th>\n",
       "      <th>leverage</th>\n",
       "      <th>conviction</th>\n",
       "      <th>zhangs_metric</th>\n",
       "      <th>antecedent_len</th>\n",
       "    </tr>\n",
       "  </thead>\n",
       "  <tbody>\n",
       "  </tbody>\n",
       "</table>\n",
       "</div>"
      ],
      "text/plain": [
       "Empty DataFrame\n",
       "Columns: [antecedents, consequents, antecedent support, consequent support, support, confidence, lift, leverage, conviction, zhangs_metric, antecedent_len]\n",
       "Index: []"
      ]
     },
     "execution_count": 345,
     "metadata": {},
     "output_type": "execute_result"
    }
   ],
   "source": [
    "rules_glob_vict"
   ]
  },
  {
   "cell_type": "code",
   "execution_count": 346,
   "metadata": {},
   "outputs": [
    {
     "data": {
      "text/html": [
       "<div>\n",
       "<style scoped>\n",
       "    .dataframe tbody tr th:only-of-type {\n",
       "        vertical-align: middle;\n",
       "    }\n",
       "\n",
       "    .dataframe tbody tr th {\n",
       "        vertical-align: top;\n",
       "    }\n",
       "\n",
       "    .dataframe thead th {\n",
       "        text-align: right;\n",
       "    }\n",
       "</style>\n",
       "<table border=\"1\" class=\"dataframe\">\n",
       "  <thead>\n",
       "    <tr style=\"text-align: right;\">\n",
       "      <th></th>\n",
       "      <th>antecedents</th>\n",
       "      <th>consequents</th>\n",
       "      <th>antecedent support</th>\n",
       "      <th>consequent support</th>\n",
       "      <th>support</th>\n",
       "      <th>confidence</th>\n",
       "      <th>lift</th>\n",
       "      <th>leverage</th>\n",
       "      <th>conviction</th>\n",
       "      <th>zhangs_metric</th>\n",
       "      <th>antecedent_len</th>\n",
       "    </tr>\n",
       "  </thead>\n",
       "  <tbody>\n",
       "    <tr>\n",
       "      <th>27621</th>\n",
       "      <td>(accion del peaton_Peaton no interviene, rango...</td>\n",
       "      <td>(posicion en el vehiculo_Se desconoce)</td>\n",
       "      <td>0.469330</td>\n",
       "      <td>1.000000</td>\n",
       "      <td>0.469330</td>\n",
       "      <td>1.000000</td>\n",
       "      <td>1.000000</td>\n",
       "      <td>0.000000</td>\n",
       "      <td>inf</td>\n",
       "      <td>0.000000</td>\n",
       "      <td>5</td>\n",
       "    </tr>\n",
       "    <tr>\n",
       "      <th>27622</th>\n",
       "      <td>(accion del peaton_Peaton no interviene, rango...</td>\n",
       "      <td>(presunta infraccion del peaton_Peaton no inte...</td>\n",
       "      <td>0.469330</td>\n",
       "      <td>1.000000</td>\n",
       "      <td>0.469330</td>\n",
       "      <td>1.000000</td>\n",
       "      <td>1.000000</td>\n",
       "      <td>0.000000</td>\n",
       "      <td>inf</td>\n",
       "      <td>0.000000</td>\n",
       "      <td>5</td>\n",
       "    </tr>\n",
       "    <tr>\n",
       "      <th>27623</th>\n",
       "      <td>(accion del peaton_Peaton no interviene, rango...</td>\n",
       "      <td>(presunto responsable_NO)</td>\n",
       "      <td>0.562054</td>\n",
       "      <td>0.536377</td>\n",
       "      <td>0.469330</td>\n",
       "      <td>0.835025</td>\n",
       "      <td>1.556789</td>\n",
       "      <td>0.167857</td>\n",
       "      <td>2.810271</td>\n",
       "      <td>0.816659</td>\n",
       "      <td>5</td>\n",
       "    </tr>\n",
       "    <tr>\n",
       "      <th>27624</th>\n",
       "      <td>(accion del peaton_Peaton no interviene, rango...</td>\n",
       "      <td>(presunto error_No se aprecian errores)</td>\n",
       "      <td>0.529957</td>\n",
       "      <td>0.582739</td>\n",
       "      <td>0.469330</td>\n",
       "      <td>0.885599</td>\n",
       "      <td>1.519718</td>\n",
       "      <td>0.160503</td>\n",
       "      <td>3.647353</td>\n",
       "      <td>0.727558</td>\n",
       "      <td>5</td>\n",
       "    </tr>\n",
       "    <tr>\n",
       "      <th>27625</th>\n",
       "      <td>(accion del peaton_Peaton no interviene, presu...</td>\n",
       "      <td>(rango alcohol_No prueba/no positivo)</td>\n",
       "      <td>0.474322</td>\n",
       "      <td>0.914408</td>\n",
       "      <td>0.469330</td>\n",
       "      <td>0.989474</td>\n",
       "      <td>1.082092</td>\n",
       "      <td>0.035605</td>\n",
       "      <td>8.131241</td>\n",
       "      <td>0.144317</td>\n",
       "      <td>5</td>\n",
       "    </tr>\n",
       "    <tr>\n",
       "      <th>...</th>\n",
       "      <td>...</td>\n",
       "      <td>...</td>\n",
       "      <td>...</td>\n",
       "      <td>...</td>\n",
       "      <td>...</td>\n",
       "      <td>...</td>\n",
       "      <td>...</td>\n",
       "      <td>...</td>\n",
       "      <td>...</td>\n",
       "      <td>...</td>\n",
       "      <td>...</td>\n",
       "    </tr>\n",
       "    <tr>\n",
       "      <th>152254</th>\n",
       "      <td>(se desconoce, presunta infraccion del peaton_...</td>\n",
       "      <td>(tipo de vehiculo_turismo, accion del peaton_P...</td>\n",
       "      <td>0.539230</td>\n",
       "      <td>0.606990</td>\n",
       "      <td>0.407989</td>\n",
       "      <td>0.756614</td>\n",
       "      <td>1.246501</td>\n",
       "      <td>0.080682</td>\n",
       "      <td>1.614758</td>\n",
       "      <td>0.429182</td>\n",
       "      <td>5</td>\n",
       "    </tr>\n",
       "    <tr>\n",
       "      <th>152255</th>\n",
       "      <td>(se desconoce, presunta infraccion del peaton_...</td>\n",
       "      <td>(tipo de vehiculo_turismo, accion del peaton_P...</td>\n",
       "      <td>0.522825</td>\n",
       "      <td>0.626961</td>\n",
       "      <td>0.407989</td>\n",
       "      <td>0.780355</td>\n",
       "      <td>1.244661</td>\n",
       "      <td>0.080198</td>\n",
       "      <td>1.698368</td>\n",
       "      <td>0.411942</td>\n",
       "      <td>5</td>\n",
       "    </tr>\n",
       "    <tr>\n",
       "      <th>152256</th>\n",
       "      <td>(se desconoce, presunta infraccion del peaton_...</td>\n",
       "      <td>(tipo de vehiculo_turismo, accion del peaton_P...</td>\n",
       "      <td>0.559914</td>\n",
       "      <td>0.605563</td>\n",
       "      <td>0.407989</td>\n",
       "      <td>0.728662</td>\n",
       "      <td>1.203280</td>\n",
       "      <td>0.068925</td>\n",
       "      <td>1.453674</td>\n",
       "      <td>0.383876</td>\n",
       "      <td>5</td>\n",
       "    </tr>\n",
       "    <tr>\n",
       "      <th>152257</th>\n",
       "      <td>(se desconoce, presunta infraccion del peaton_...</td>\n",
       "      <td>(tipo de vehiculo_turismo, accion del peaton_P...</td>\n",
       "      <td>0.532810</td>\n",
       "      <td>0.626961</td>\n",
       "      <td>0.407989</td>\n",
       "      <td>0.765730</td>\n",
       "      <td>1.221334</td>\n",
       "      <td>0.073937</td>\n",
       "      <td>1.592342</td>\n",
       "      <td>0.387901</td>\n",
       "      <td>5</td>\n",
       "    </tr>\n",
       "    <tr>\n",
       "      <th>152258</th>\n",
       "      <td>(se desconoce, casco_Se ignora, tipo de permis...</td>\n",
       "      <td>(tipo de vehiculo_turismo, accion del peaton_P...</td>\n",
       "      <td>0.522825</td>\n",
       "      <td>0.626961</td>\n",
       "      <td>0.407989</td>\n",
       "      <td>0.780355</td>\n",
       "      <td>1.244661</td>\n",
       "      <td>0.080198</td>\n",
       "      <td>1.698368</td>\n",
       "      <td>0.411942</td>\n",
       "      <td>5</td>\n",
       "    </tr>\n",
       "  </tbody>\n",
       "</table>\n",
       "<p>30148 rows × 11 columns</p>\n",
       "</div>"
      ],
      "text/plain": [
       "                                              antecedents  \\\n",
       "27621   (accion del peaton_Peaton no interviene, rango...   \n",
       "27622   (accion del peaton_Peaton no interviene, rango...   \n",
       "27623   (accion del peaton_Peaton no interviene, rango...   \n",
       "27624   (accion del peaton_Peaton no interviene, rango...   \n",
       "27625   (accion del peaton_Peaton no interviene, presu...   \n",
       "...                                                   ...   \n",
       "152254  (se desconoce, presunta infraccion del peaton_...   \n",
       "152255  (se desconoce, presunta infraccion del peaton_...   \n",
       "152256  (se desconoce, presunta infraccion del peaton_...   \n",
       "152257  (se desconoce, presunta infraccion del peaton_...   \n",
       "152258  (se desconoce, casco_Se ignora, tipo de permis...   \n",
       "\n",
       "                                              consequents  antecedent support  \\\n",
       "27621              (posicion en el vehiculo_Se desconoce)            0.469330   \n",
       "27622   (presunta infraccion del peaton_Peaton no inte...            0.469330   \n",
       "27623                           (presunto responsable_NO)            0.562054   \n",
       "27624             (presunto error_No se aprecian errores)            0.529957   \n",
       "27625               (rango alcohol_No prueba/no positivo)            0.474322   \n",
       "...                                                   ...                 ...   \n",
       "152254  (tipo de vehiculo_turismo, accion del peaton_P...            0.539230   \n",
       "152255  (tipo de vehiculo_turismo, accion del peaton_P...            0.522825   \n",
       "152256  (tipo de vehiculo_turismo, accion del peaton_P...            0.559914   \n",
       "152257  (tipo de vehiculo_turismo, accion del peaton_P...            0.532810   \n",
       "152258  (tipo de vehiculo_turismo, accion del peaton_P...            0.522825   \n",
       "\n",
       "        consequent support   support  confidence      lift  leverage  \\\n",
       "27621             1.000000  0.469330    1.000000  1.000000  0.000000   \n",
       "27622             1.000000  0.469330    1.000000  1.000000  0.000000   \n",
       "27623             0.536377  0.469330    0.835025  1.556789  0.167857   \n",
       "27624             0.582739  0.469330    0.885599  1.519718  0.160503   \n",
       "27625             0.914408  0.469330    0.989474  1.082092  0.035605   \n",
       "...                    ...       ...         ...       ...       ...   \n",
       "152254            0.606990  0.407989    0.756614  1.246501  0.080682   \n",
       "152255            0.626961  0.407989    0.780355  1.244661  0.080198   \n",
       "152256            0.605563  0.407989    0.728662  1.203280  0.068925   \n",
       "152257            0.626961  0.407989    0.765730  1.221334  0.073937   \n",
       "152258            0.626961  0.407989    0.780355  1.244661  0.080198   \n",
       "\n",
       "        conviction  zhangs_metric  antecedent_len  \n",
       "27621          inf       0.000000               5  \n",
       "27622          inf       0.000000               5  \n",
       "27623     2.810271       0.816659               5  \n",
       "27624     3.647353       0.727558               5  \n",
       "27625     8.131241       0.144317               5  \n",
       "...            ...            ...             ...  \n",
       "152254    1.614758       0.429182               5  \n",
       "152255    1.698368       0.411942               5  \n",
       "152256    1.453674       0.383876               5  \n",
       "152257    1.592342       0.387901               5  \n",
       "152258    1.698368       0.411942               5  \n",
       "\n",
       "[30148 rows x 11 columns]"
      ]
     },
     "execution_count": 346,
     "metadata": {},
     "output_type": "execute_result"
    }
   ],
   "source": [
    "rules_glob[(rules_glob['antecedent_len'] >= 5) &\n",
    "           (rules_glob['confidence'] > 0.7)]"
   ]
  },
  {
   "cell_type": "code",
   "execution_count": 347,
   "metadata": {},
   "outputs": [
    {
     "data": {
      "text/plain": [
       "consequents\n",
       "False    152435\n",
       "Name: count, dtype: int64"
      ]
     },
     "execution_count": 347,
     "metadata": {},
     "output_type": "execute_result"
    }
   ],
   "source": [
    "rules_glob[\"consequents\"].str.contains(\"victima\", case=False, na=False).value_counts()"
   ]
  },
  {
   "cell_type": "markdown",
   "metadata": {},
   "source": [
    "## Analizamos víctimas mortales"
   ]
  },
  {
   "cell_type": "code",
   "execution_count": 348,
   "metadata": {},
   "outputs": [],
   "source": [
    "df_cond_mort = df_cod_fin[df_cod_fin[\"tipo de victima\"] == \"victima mortal\"]"
   ]
  },
  {
   "cell_type": "code",
   "execution_count": 349,
   "metadata": {},
   "outputs": [],
   "source": [
    "df_cond_mort = df_cond_mort.drop(columns = \"tipo de victima\", axis = 1)"
   ]
  },
  {
   "cell_type": "code",
   "execution_count": 350,
   "metadata": {},
   "outputs": [
    {
     "name": "stderr",
     "output_type": "stream",
     "text": [
      "c:\\env_python\\data_env\\Lib\\site-packages\\numpy\\_core\\fromnumeric.py:57: FutureWarning: 'DataFrame.swapaxes' is deprecated and will be removed in a future version. Please use 'DataFrame.transpose' instead.\n",
      "  return bound(*args, **kwds)\n"
     ]
    }
   ],
   "source": [
    "# Definir parámetros\n",
    "min_support = 0.6\n",
    "metric = \"confidence\"\n",
    "min_threshold = 0.7\n",
    "\n",
    "# Dividir los datos en 4 partes (ajusta según la cantidad de núcleos y tamaño de tus datos)\n",
    "data_chunks_mort = chunk_data(df_cond_mort, 4)"
   ]
  },
  {
   "cell_type": "code",
   "execution_count": 351,
   "metadata": {},
   "outputs": [],
   "source": [
    "from joblib import Parallel, delayed\n",
    "\n",
    "# Calcular los itemsets en paralelo\n",
    "frequent_itemsets_list = Parallel(n_jobs=-1)(\n",
    "    delayed(compute_frequent_itemsets)(chunk, min_support) for chunk in data_chunks_mort\n",
    ")\n",
    "\n",
    "# Combinar los resultados de los itemsets frecuentes\n",
    "frequent_itemsets_combined = pd.concat(frequent_itemsets_list, ignore_index=True)\n",
    "\n",
    "# Generar las reglas de asociación\n",
    "rules_mort = compute_association_rules(frequent_itemsets_combined, metric, min_threshold)"
   ]
  },
  {
   "cell_type": "code",
   "execution_count": 352,
   "metadata": {},
   "outputs": [],
   "source": [
    "rules_mort[\"antecedent_len\"] = rules_mort[\"antecedents\"].apply(lambda x: len(x))"
   ]
  },
  {
   "cell_type": "code",
   "execution_count": 353,
   "metadata": {},
   "outputs": [
    {
     "data": {
      "text/html": [
       "<div>\n",
       "<style scoped>\n",
       "    .dataframe tbody tr th:only-of-type {\n",
       "        vertical-align: middle;\n",
       "    }\n",
       "\n",
       "    .dataframe tbody tr th {\n",
       "        vertical-align: top;\n",
       "    }\n",
       "\n",
       "    .dataframe thead th {\n",
       "        text-align: right;\n",
       "    }\n",
       "</style>\n",
       "<table border=\"1\" class=\"dataframe\">\n",
       "  <thead>\n",
       "    <tr style=\"text-align: right;\">\n",
       "      <th></th>\n",
       "      <th>antecedents</th>\n",
       "      <th>consequents</th>\n",
       "      <th>antecedent support</th>\n",
       "      <th>consequent support</th>\n",
       "      <th>support</th>\n",
       "      <th>confidence</th>\n",
       "      <th>lift</th>\n",
       "      <th>leverage</th>\n",
       "      <th>conviction</th>\n",
       "      <th>zhangs_metric</th>\n",
       "      <th>antecedent_len</th>\n",
       "    </tr>\n",
       "  </thead>\n",
       "  <tbody>\n",
       "    <tr>\n",
       "      <th>20027</th>\n",
       "      <td>(accion del peaton_Peaton no interviene, rango...</td>\n",
       "      <td>(caracteristica del permiso_En Vigor)</td>\n",
       "      <td>0.727273</td>\n",
       "      <td>1.000000</td>\n",
       "      <td>0.727273</td>\n",
       "      <td>1.0</td>\n",
       "      <td>1.0</td>\n",
       "      <td>0.000000</td>\n",
       "      <td>inf</td>\n",
       "      <td>0.000000</td>\n",
       "      <td>7</td>\n",
       "    </tr>\n",
       "    <tr>\n",
       "      <th>20028</th>\n",
       "      <td>(accion del peaton_Peaton no interviene, rango...</td>\n",
       "      <td>(posicion en el vehiculo_Se desconoce)</td>\n",
       "      <td>0.727273</td>\n",
       "      <td>1.000000</td>\n",
       "      <td>0.727273</td>\n",
       "      <td>1.0</td>\n",
       "      <td>1.0</td>\n",
       "      <td>0.000000</td>\n",
       "      <td>inf</td>\n",
       "      <td>0.000000</td>\n",
       "      <td>7</td>\n",
       "    </tr>\n",
       "    <tr>\n",
       "      <th>20029</th>\n",
       "      <td>(accion del peaton_Peaton no interviene, rango...</td>\n",
       "      <td>(sexo_Hombre)</td>\n",
       "      <td>0.727273</td>\n",
       "      <td>0.909091</td>\n",
       "      <td>0.727273</td>\n",
       "      <td>1.0</td>\n",
       "      <td>1.1</td>\n",
       "      <td>0.066116</td>\n",
       "      <td>inf</td>\n",
       "      <td>0.333333</td>\n",
       "      <td>7</td>\n",
       "    </tr>\n",
       "    <tr>\n",
       "      <th>20030</th>\n",
       "      <td>(accion del peaton_Peaton no interviene, rango...</td>\n",
       "      <td>(presunta infraccion del peaton_Peaton no inte...</td>\n",
       "      <td>0.727273</td>\n",
       "      <td>1.000000</td>\n",
       "      <td>0.727273</td>\n",
       "      <td>1.0</td>\n",
       "      <td>1.0</td>\n",
       "      <td>0.000000</td>\n",
       "      <td>inf</td>\n",
       "      <td>0.000000</td>\n",
       "      <td>7</td>\n",
       "    </tr>\n",
       "    <tr>\n",
       "      <th>20031</th>\n",
       "      <td>(accion del peaton_Peaton no interviene, rango...</td>\n",
       "      <td>(victima mortal)</td>\n",
       "      <td>0.727273</td>\n",
       "      <td>1.000000</td>\n",
       "      <td>0.727273</td>\n",
       "      <td>1.0</td>\n",
       "      <td>1.0</td>\n",
       "      <td>0.000000</td>\n",
       "      <td>inf</td>\n",
       "      <td>0.000000</td>\n",
       "      <td>7</td>\n",
       "    </tr>\n",
       "    <tr>\n",
       "      <th>...</th>\n",
       "      <td>...</td>\n",
       "      <td>...</td>\n",
       "      <td>...</td>\n",
       "      <td>...</td>\n",
       "      <td>...</td>\n",
       "      <td>...</td>\n",
       "      <td>...</td>\n",
       "      <td>...</td>\n",
       "      <td>...</td>\n",
       "      <td>...</td>\n",
       "      <td>...</td>\n",
       "    </tr>\n",
       "    <tr>\n",
       "      <th>72902</th>\n",
       "      <td>(accion del peaton_Peaton no interviene, rango...</td>\n",
       "      <td>(presunta infraccion del peaton_Peaton no inte...</td>\n",
       "      <td>0.636364</td>\n",
       "      <td>1.000000</td>\n",
       "      <td>0.636364</td>\n",
       "      <td>1.0</td>\n",
       "      <td>1.0</td>\n",
       "      <td>0.000000</td>\n",
       "      <td>inf</td>\n",
       "      <td>0.000000</td>\n",
       "      <td>7</td>\n",
       "    </tr>\n",
       "    <tr>\n",
       "      <th>72903</th>\n",
       "      <td>(accion del peaton_Peaton no interviene, rango...</td>\n",
       "      <td>(sexo_Hombre)</td>\n",
       "      <td>0.636364</td>\n",
       "      <td>0.909091</td>\n",
       "      <td>0.636364</td>\n",
       "      <td>1.0</td>\n",
       "      <td>1.1</td>\n",
       "      <td>0.057851</td>\n",
       "      <td>inf</td>\n",
       "      <td>0.250000</td>\n",
       "      <td>7</td>\n",
       "    </tr>\n",
       "    <tr>\n",
       "      <th>72904</th>\n",
       "      <td>(accion del peaton_Peaton no interviene, rango...</td>\n",
       "      <td>(victima mortal)</td>\n",
       "      <td>0.636364</td>\n",
       "      <td>1.000000</td>\n",
       "      <td>0.636364</td>\n",
       "      <td>1.0</td>\n",
       "      <td>1.0</td>\n",
       "      <td>0.000000</td>\n",
       "      <td>inf</td>\n",
       "      <td>0.000000</td>\n",
       "      <td>7</td>\n",
       "    </tr>\n",
       "    <tr>\n",
       "      <th>72905</th>\n",
       "      <td>(accion del peaton_Peaton no interviene, victi...</td>\n",
       "      <td>(rango alcohol_No prueba/no positivo)</td>\n",
       "      <td>0.636364</td>\n",
       "      <td>1.000000</td>\n",
       "      <td>0.636364</td>\n",
       "      <td>1.0</td>\n",
       "      <td>1.0</td>\n",
       "      <td>0.000000</td>\n",
       "      <td>inf</td>\n",
       "      <td>0.000000</td>\n",
       "      <td>7</td>\n",
       "    </tr>\n",
       "    <tr>\n",
       "      <th>72906</th>\n",
       "      <td>(rango alcohol_No prueba/no positivo, victima ...</td>\n",
       "      <td>(accion del peaton_Peaton no interviene)</td>\n",
       "      <td>0.636364</td>\n",
       "      <td>1.000000</td>\n",
       "      <td>0.636364</td>\n",
       "      <td>1.0</td>\n",
       "      <td>1.0</td>\n",
       "      <td>0.000000</td>\n",
       "      <td>inf</td>\n",
       "      <td>0.000000</td>\n",
       "      <td>7</td>\n",
       "    </tr>\n",
       "  </tbody>\n",
       "</table>\n",
       "<p>1122 rows × 11 columns</p>\n",
       "</div>"
      ],
      "text/plain": [
       "                                             antecedents  \\\n",
       "20027  (accion del peaton_Peaton no interviene, rango...   \n",
       "20028  (accion del peaton_Peaton no interviene, rango...   \n",
       "20029  (accion del peaton_Peaton no interviene, rango...   \n",
       "20030  (accion del peaton_Peaton no interviene, rango...   \n",
       "20031  (accion del peaton_Peaton no interviene, rango...   \n",
       "...                                                  ...   \n",
       "72902  (accion del peaton_Peaton no interviene, rango...   \n",
       "72903  (accion del peaton_Peaton no interviene, rango...   \n",
       "72904  (accion del peaton_Peaton no interviene, rango...   \n",
       "72905  (accion del peaton_Peaton no interviene, victi...   \n",
       "72906  (rango alcohol_No prueba/no positivo, victima ...   \n",
       "\n",
       "                                             consequents  antecedent support  \\\n",
       "20027              (caracteristica del permiso_En Vigor)            0.727273   \n",
       "20028             (posicion en el vehiculo_Se desconoce)            0.727273   \n",
       "20029                                      (sexo_Hombre)            0.727273   \n",
       "20030  (presunta infraccion del peaton_Peaton no inte...            0.727273   \n",
       "20031                                   (victima mortal)            0.727273   \n",
       "...                                                  ...                 ...   \n",
       "72902  (presunta infraccion del peaton_Peaton no inte...            0.636364   \n",
       "72903                                      (sexo_Hombre)            0.636364   \n",
       "72904                                   (victima mortal)            0.636364   \n",
       "72905              (rango alcohol_No prueba/no positivo)            0.636364   \n",
       "72906           (accion del peaton_Peaton no interviene)            0.636364   \n",
       "\n",
       "       consequent support   support  confidence  lift  leverage  conviction  \\\n",
       "20027            1.000000  0.727273         1.0   1.0  0.000000         inf   \n",
       "20028            1.000000  0.727273         1.0   1.0  0.000000         inf   \n",
       "20029            0.909091  0.727273         1.0   1.1  0.066116         inf   \n",
       "20030            1.000000  0.727273         1.0   1.0  0.000000         inf   \n",
       "20031            1.000000  0.727273         1.0   1.0  0.000000         inf   \n",
       "...                   ...       ...         ...   ...       ...         ...   \n",
       "72902            1.000000  0.636364         1.0   1.0  0.000000         inf   \n",
       "72903            0.909091  0.636364         1.0   1.1  0.057851         inf   \n",
       "72904            1.000000  0.636364         1.0   1.0  0.000000         inf   \n",
       "72905            1.000000  0.636364         1.0   1.0  0.000000         inf   \n",
       "72906            1.000000  0.636364         1.0   1.0  0.000000         inf   \n",
       "\n",
       "       zhangs_metric  antecedent_len  \n",
       "20027       0.000000               7  \n",
       "20028       0.000000               7  \n",
       "20029       0.333333               7  \n",
       "20030       0.000000               7  \n",
       "20031       0.000000               7  \n",
       "...              ...             ...  \n",
       "72902       0.000000               7  \n",
       "72903       0.250000               7  \n",
       "72904       0.000000               7  \n",
       "72905       0.000000               7  \n",
       "72906       0.000000               7  \n",
       "\n",
       "[1122 rows x 11 columns]"
      ]
     },
     "execution_count": 353,
     "metadata": {},
     "output_type": "execute_result"
    }
   ],
   "source": [
    "rules_mort[(rules_mort['antecedent_len'] >= 7) &\n",
    "           (rules_mort['confidence'] > 0.6)]"
   ]
  }
 ],
 "metadata": {
  "kernelspec": {
   "display_name": "mlunsup_env",
   "language": "python",
   "name": "python3"
  },
  "language_info": {
   "codemirror_mode": {
    "name": "ipython",
    "version": 3
   },
   "file_extension": ".py",
   "mimetype": "text/x-python",
   "name": "python",
   "nbconvert_exporter": "python",
   "pygments_lexer": "ipython3",
   "version": "3.12.6"
  }
 },
 "nbformat": 4,
 "nbformat_minor": 2
}
