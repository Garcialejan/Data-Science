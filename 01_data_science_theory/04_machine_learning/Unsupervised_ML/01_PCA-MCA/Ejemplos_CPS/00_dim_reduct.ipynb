{
 "cells": [
  {
   "cell_type": "markdown",
   "metadata": {},
   "source": [
    "# Técnicas para la reducción de la dimensionalidad "
   ]
  },
  {
   "cell_type": "code",
   "execution_count": 1,
   "metadata": {},
   "outputs": [],
   "source": [
    "import numpy as np\n",
    "import pandas as pd\n",
    "import matplotlib.pyplot as plt"
   ]
  },
  {
   "cell_type": "code",
   "execution_count": 2,
   "metadata": {},
   "outputs": [
    {
     "name": "stdout",
     "output_type": "stream",
     "text": [
      "(1000, 20) (1000,)\n"
     ]
    }
   ],
   "source": [
    "from sklearn.datasets import make_classification\n",
    "# define dataset\n",
    "X, y = make_classification(n_samples=1000, n_features=20, n_informative=10, n_redundant=10, random_state=7)\n",
    "# summarize the dataset\n",
    "print(X.shape, y.shape)"
   ]
  },
  {
   "cell_type": "code",
   "execution_count": 3,
   "metadata": {},
   "outputs": [
    {
     "data": {
      "text/html": [
       "<div>\n",
       "<style scoped>\n",
       "    .dataframe tbody tr th:only-of-type {\n",
       "        vertical-align: middle;\n",
       "    }\n",
       "\n",
       "    .dataframe tbody tr th {\n",
       "        vertical-align: top;\n",
       "    }\n",
       "\n",
       "    .dataframe thead th {\n",
       "        text-align: right;\n",
       "    }\n",
       "</style>\n",
       "<table border=\"1\" class=\"dataframe\">\n",
       "  <thead>\n",
       "    <tr style=\"text-align: right;\">\n",
       "      <th></th>\n",
       "      <th>0</th>\n",
       "      <th>1</th>\n",
       "      <th>2</th>\n",
       "      <th>3</th>\n",
       "      <th>4</th>\n",
       "      <th>5</th>\n",
       "      <th>6</th>\n",
       "      <th>7</th>\n",
       "      <th>8</th>\n",
       "      <th>9</th>\n",
       "      <th>10</th>\n",
       "      <th>11</th>\n",
       "      <th>12</th>\n",
       "      <th>13</th>\n",
       "      <th>14</th>\n",
       "      <th>15</th>\n",
       "      <th>16</th>\n",
       "      <th>17</th>\n",
       "      <th>18</th>\n",
       "      <th>19</th>\n",
       "    </tr>\n",
       "  </thead>\n",
       "  <tbody>\n",
       "    <tr>\n",
       "      <th>0</th>\n",
       "      <td>0.080548</td>\n",
       "      <td>0.822733</td>\n",
       "      <td>-1.211753</td>\n",
       "      <td>2.421184</td>\n",
       "      <td>3.304243</td>\n",
       "      <td>-6.343576</td>\n",
       "      <td>-0.369886</td>\n",
       "      <td>0.064277</td>\n",
       "      <td>0.094521</td>\n",
       "      <td>-4.364430</td>\n",
       "      <td>-2.943058</td>\n",
       "      <td>0.502341</td>\n",
       "      <td>-2.339147</td>\n",
       "      <td>0.153031</td>\n",
       "      <td>0.543728</td>\n",
       "      <td>-0.420523</td>\n",
       "      <td>1.456127</td>\n",
       "      <td>2.882609</td>\n",
       "      <td>1.791600</td>\n",
       "      <td>-4.297088</td>\n",
       "    </tr>\n",
       "    <tr>\n",
       "      <th>1</th>\n",
       "      <td>-2.330300</td>\n",
       "      <td>-4.866086</td>\n",
       "      <td>-3.882913</td>\n",
       "      <td>-2.232483</td>\n",
       "      <td>1.445153</td>\n",
       "      <td>2.597391</td>\n",
       "      <td>3.689269</td>\n",
       "      <td>-1.651189</td>\n",
       "      <td>-2.478660</td>\n",
       "      <td>-1.719449</td>\n",
       "      <td>1.739934</td>\n",
       "      <td>-3.885896</td>\n",
       "      <td>-1.440399</td>\n",
       "      <td>3.128698</td>\n",
       "      <td>-5.370488</td>\n",
       "      <td>3.881865</td>\n",
       "      <td>0.759844</td>\n",
       "      <td>-0.145616</td>\n",
       "      <td>-0.554894</td>\n",
       "      <td>0.614208</td>\n",
       "    </tr>\n",
       "    <tr>\n",
       "      <th>2</th>\n",
       "      <td>-1.197150</td>\n",
       "      <td>1.555631</td>\n",
       "      <td>-0.618716</td>\n",
       "      <td>7.193674</td>\n",
       "      <td>-3.300375</td>\n",
       "      <td>-0.033224</td>\n",
       "      <td>4.182462</td>\n",
       "      <td>0.290963</td>\n",
       "      <td>0.886022</td>\n",
       "      <td>-0.685233</td>\n",
       "      <td>2.631218</td>\n",
       "      <td>1.015341</td>\n",
       "      <td>2.441568</td>\n",
       "      <td>0.932073</td>\n",
       "      <td>-1.899996</td>\n",
       "      <td>-3.049732</td>\n",
       "      <td>-3.174851</td>\n",
       "      <td>1.734818</td>\n",
       "      <td>0.130674</td>\n",
       "      <td>-3.133515</td>\n",
       "    </tr>\n",
       "    <tr>\n",
       "      <th>3</th>\n",
       "      <td>1.535769</td>\n",
       "      <td>-0.733499</td>\n",
       "      <td>0.204541</td>\n",
       "      <td>0.907992</td>\n",
       "      <td>-1.142800</td>\n",
       "      <td>-2.342064</td>\n",
       "      <td>2.533897</td>\n",
       "      <td>-1.140052</td>\n",
       "      <td>4.231472</td>\n",
       "      <td>0.032415</td>\n",
       "      <td>0.610521</td>\n",
       "      <td>2.093248</td>\n",
       "      <td>-2.800467</td>\n",
       "      <td>-2.093340</td>\n",
       "      <td>1.102820</td>\n",
       "      <td>1.385990</td>\n",
       "      <td>-0.476395</td>\n",
       "      <td>3.055135</td>\n",
       "      <td>1.764456</td>\n",
       "      <td>-1.132424</td>\n",
       "    </tr>\n",
       "    <tr>\n",
       "      <th>4</th>\n",
       "      <td>1.947908</td>\n",
       "      <td>3.409123</td>\n",
       "      <td>3.574408</td>\n",
       "      <td>-4.579258</td>\n",
       "      <td>3.181229</td>\n",
       "      <td>-2.982798</td>\n",
       "      <td>-3.618861</td>\n",
       "      <td>1.490834</td>\n",
       "      <td>3.125231</td>\n",
       "      <td>-1.153063</td>\n",
       "      <td>-2.563104</td>\n",
       "      <td>0.668844</td>\n",
       "      <td>-3.032168</td>\n",
       "      <td>-2.448262</td>\n",
       "      <td>2.317296</td>\n",
       "      <td>5.087334</td>\n",
       "      <td>1.568465</td>\n",
       "      <td>-0.429839</td>\n",
       "      <td>1.992009</td>\n",
       "      <td>2.669929</td>\n",
       "    </tr>\n",
       "  </tbody>\n",
       "</table>\n",
       "</div>"
      ],
      "text/plain": [
       "          0         1         2         3         4         5         6  \\\n",
       "0  0.080548  0.822733 -1.211753  2.421184  3.304243 -6.343576 -0.369886   \n",
       "1 -2.330300 -4.866086 -3.882913 -2.232483  1.445153  2.597391  3.689269   \n",
       "2 -1.197150  1.555631 -0.618716  7.193674 -3.300375 -0.033224  4.182462   \n",
       "3  1.535769 -0.733499  0.204541  0.907992 -1.142800 -2.342064  2.533897   \n",
       "4  1.947908  3.409123  3.574408 -4.579258  3.181229 -2.982798 -3.618861   \n",
       "\n",
       "          7         8         9        10        11        12        13  \\\n",
       "0  0.064277  0.094521 -4.364430 -2.943058  0.502341 -2.339147  0.153031   \n",
       "1 -1.651189 -2.478660 -1.719449  1.739934 -3.885896 -1.440399  3.128698   \n",
       "2  0.290963  0.886022 -0.685233  2.631218  1.015341  2.441568  0.932073   \n",
       "3 -1.140052  4.231472  0.032415  0.610521  2.093248 -2.800467 -2.093340   \n",
       "4  1.490834  3.125231 -1.153063 -2.563104  0.668844 -3.032168 -2.448262   \n",
       "\n",
       "         14        15        16        17        18        19  \n",
       "0  0.543728 -0.420523  1.456127  2.882609  1.791600 -4.297088  \n",
       "1 -5.370488  3.881865  0.759844 -0.145616 -0.554894  0.614208  \n",
       "2 -1.899996 -3.049732 -3.174851  1.734818  0.130674 -3.133515  \n",
       "3  1.102820  1.385990 -0.476395  3.055135  1.764456 -1.132424  \n",
       "4  2.317296  5.087334  1.568465 -0.429839  1.992009  2.669929  "
      ]
     },
     "execution_count": 3,
     "metadata": {},
     "output_type": "execute_result"
    }
   ],
   "source": [
    "df = pd.DataFrame(X)\n",
    "df.columns = df.columns.astype(str)\n",
    "df.head()"
   ]
  },
  {
   "cell_type": "markdown",
   "metadata": {},
   "source": [
    "- Prueba de esfericidad de Bartlett: Esta prueba verifica si la matriz de correlación es significativamente diferente de la matriz de identidad. Un resultado significativo sugiere que hay suficientes correlaciones entre las variables para proceder con el análisis.\n",
    "\n",
    "- Prueba de KMO (Kaiser-Meyer-Olkin): Mide la adecuación muestral. Un valor de KMO mayor a 0.6 generalmente se considera adecuado para realizar PCA o análisis factorial. Valores más cercanos a 1 indican que la factorización es apropiada."
   ]
  },
  {
   "cell_type": "markdown",
   "metadata": {},
   "source": [
    "```mermaid\n",
    "flowchart TD\n",
    "    cat?(Categorical data?) --> |\"✅\"| num_too?(Numerical data too?)\n",
    "    num_too? --> |\"✅\"| FAMD\n",
    "    num_too? --> |\"❌\"| multiple_cat?(More than two columns?)\n",
    "    multiple_cat? --> |\"✅\"| MCA\n",
    "    multiple_cat? --> |\"❌\"| CA\n",
    "    cat? --> |\"❌\"| groups?(Groups of columns?)\n",
    "    groups? --> |\"✅\"| MFA\n",
    "    groups? --> |\"❌\"| shapes?(Analysing shapes?)\n",
    "    shapes? --> |\"✅\"| GPA\n",
    "    shapes? --> |\"❌\"| PCA\n",
    "```"
   ]
  },
  {
   "cell_type": "code",
   "execution_count": 10,
   "metadata": {},
   "outputs": [],
   "source": [
    "from sklearn.decomposition import PCA\n",
    "from sklearn.preprocessing import StandardScaler\n",
    "\n",
    "def PCA_Data_Exploration(df, n_components=2):\n",
    "    # Separate features and target variable\n",
    "    X = df.copy()\n",
    "\n",
    "    # Standardize features\n",
    "    scaler = StandardScaler()\n",
    "    X = scaler.fit_transform(X)\n",
    "\n",
    "    # PCA\n",
    "    pca = PCA(n_components=n_components)  # Renamed PCA to pca\n",
    "    components = pca.fit_transform(X)\n",
    "\n",
    "    # Variance explained\n",
    "    var_explained = pca.explained_variance_ratio_\n",
    "\n",
    "    # DataFrame of principal components\n",
    "    pcaDf = pd.DataFrame(data=components, columns=['PC1', 'PC2'], index = df.index)  # Assuming 2 components for simplicity\n",
    "\n",
    "    # DataFrame of PCA coefficients\n",
    "    coefs = pd.DataFrame(np.transpose(pca.components_), columns=pcaDf.columns, index=df.columns)\n",
    "    # coefs = pd.DataFrame(pca.components_, index=pcaDf.columns, columns=df.columns)\n",
    "\n",
    "    return var_explained, pcaDf, coefs"
   ]
  },
  {
   "cell_type": "code",
   "execution_count": 11,
   "metadata": {},
   "outputs": [
    {
     "data": {
      "text/plain": [
       "(array([0.25657675, 0.1944439 ]),\n",
       "           PC1       PC2\n",
       " 0   -1.217545  0.026503\n",
       " 1    3.268246  0.974665\n",
       " 2   -0.023231 -0.915713\n",
       " 3    0.134642 -1.545401\n",
       " 4   -0.824325  1.352947\n",
       " ..        ...       ...\n",
       " 995  0.806855 -0.195492\n",
       " 996  0.537893 -0.761208\n",
       " 997  0.577504 -1.547846\n",
       " 998 -1.516509  0.562249\n",
       " 999 -3.747064  0.939686\n",
       " \n",
       " [1000 rows x 2 columns],\n",
       "          PC1       PC2\n",
       " 0  -0.084542 -0.319162\n",
       " 1  -0.221663  0.278080\n",
       " 2  -0.040809  0.191524\n",
       " 3  -0.330766 -0.034293\n",
       " 4  -0.108151  0.355053\n",
       " 5   0.278527  0.131885\n",
       " 6   0.302254 -0.296494\n",
       " 7  -0.186415  0.189129\n",
       " 8   0.053782 -0.307644\n",
       " 9  -0.131574 -0.185510\n",
       " 10  0.223346  0.143625\n",
       " 11 -0.261034  0.031500\n",
       " 12 -0.200400  0.008890\n",
       " 13  0.310076  0.081747\n",
       " 14 -0.287154 -0.311857\n",
       " 15  0.347202  0.150044\n",
       " 16 -0.122211  0.328121\n",
       " 17  0.202605 -0.294922\n",
       " 18 -0.155265 -0.102951\n",
       " 19  0.244200  0.182661)"
      ]
     },
     "execution_count": 11,
     "metadata": {},
     "output_type": "execute_result"
    }
   ],
   "source": [
    "PCA_Data_Exploration(df)"
   ]
  },
  {
   "cell_type": "code",
   "execution_count": null,
   "metadata": {},
   "outputs": [],
   "source": [
    "# Exploración PCA\n",
    "var_explained_Df, pcaDf, components_Df = PCA_Data_Exploration(df.dropna(), n_components=2)\n",
    "var_explained_Df_grou_med, pcaDf_grou_med, components_Df_grou_med = PCA_Data_Exploration(df_grou_med, n_components=2)\n",
    "var_explained_Df_mice, pcaDf_mice, components_Df_mice = PCA_Data_Exploration(df_mice, n_components=2)\n",
    "var_explained_Df_knn, pcaDf_knn, components_Df_knn = PCA_Data_Exploration(df_knn, n_components=2)\n",
    "\n",
    "names_df = [\"pcaDf\", \"pcaDf_grou_med\", \"pca_Df_mice\", \"pcaDf_knn\"]\n",
    "\n",
    "fig, axs = plt.subplots(1, 4, figsize=(16, 5.5))  # 1 fila y 3 columnas para los subplots\n",
    "for i, df_pca in enumerate([pcaDf, pcaDf_grou_med, pcaDf_mice, pcaDf_knn]):\n",
    "    for month in df.index.month.unique().sort_values():\n",
    "        df_month = df_pca[df_pca.index.month == month]\n",
    "        axs[i].scatter(df_month.PC1, df_month.PC2, label=f\"month {month}\", alpha=.5, marker=\".\")\n",
    "    name = names_df[i]\n",
    "    axs[i].set_title(f\"PCA - {name}\")\n",
    "    axs[i].set_xlabel(\"PC1\")\n",
    "    axs[i].set_ylabel(\"PC2\")\n",
    "    axs[i].set_xlim(pcaDf.PC1.min(), pcaDf.PC1.max())\n",
    "    axs[i].set_ylim(pcaDf.PC2.min(), pcaDf.PC2.max())\n",
    "    axs[i].axhline(0)\n",
    "    axs[i].axvline(0)\n",
    "\n",
    "# plt.ylim(-4,7)\n",
    "plt.legend(loc='center left', bbox_to_anchor=(1, 0.5))\n",
    "plt.tight_layout()  # Ajusta el diseño para evitar superposiciones\n",
    "plt.show()"
   ]
  },
  {
   "cell_type": "code",
   "execution_count": null,
   "metadata": {},
   "outputs": [],
   "source": [
    "# Iterar sobre los DataFrames y graficar\n",
    "colors = [\"royalblue\",\"orange\", \"limegreen\", \"tomato\"]\n",
    "alphas = [1,.5,.5,.5]\n",
    "plt.figure(figsize=[9,5])\n",
    "for i, comps in enumerate([components_Df, components_Df_grou_med, components_Df_mice, components_Df_knn]):\n",
    "    plt.scatter(comps[\"PC1\"], comps[\"PC2\"], label=names_df[i])\n",
    "    for j in range(comps.shape[0]):\n",
    "        plt.quiver(0, 0, comps[\"PC1\"].iloc[j], comps[\"PC2\"].iloc[j], angles='xy', scale_units='xy', scale=1, linewidth=.2, color= colors[i], alpha= alphas[i])\n",
    "        if i == 0:\n",
    "            plt.annotate(str(comps.index[j]), (comps[\"PC1\"][j], comps[\"PC2\"][j]))\n",
    "    plt.xlabel(\"PC1\")\n",
    "    plt.ylabel(\"PC2\")\n",
    "    plt.axhline(0, color='grey', linestyle='-', linewidth=0.8)\n",
    "    plt.axvline(0, color='grey', linestyle='-', linewidth=0.8)\n",
    "    plt.legend()\n",
    "plt.title(\"Loadings de datos reales vs imputados\")\n",
    "plt.show()"
   ]
  },
  {
   "cell_type": "markdown",
   "metadata": {},
   "source": [
    "### PCA (Principal Component Analysis)"
   ]
  },
  {
   "cell_type": "code",
   "execution_count": 12,
   "metadata": {},
   "outputs": [
    {
     "name": "stdout",
     "output_type": "stream",
     "text": [
      "Accuracy: 0.824 (0.034)\n"
     ]
    }
   ],
   "source": [
    "from sklearn.datasets import make_classification\n",
    "from sklearn.model_selection import cross_val_score\n",
    "from sklearn.model_selection import RepeatedStratifiedKFold\n",
    "from sklearn.pipeline import Pipeline\n",
    "from sklearn.decomposition import PCA\n",
    "from sklearn.linear_model import LogisticRegression\n",
    "\n",
    "\n",
    "X, y = make_classification(n_samples=1000, n_features=20, n_informative=10, n_redundant=10, random_state=7)\n",
    "# Define the pipeline\n",
    "steps = [('pca', PCA(n_components=10)), ('m', LogisticRegression())]\n",
    "model = Pipeline(steps=steps)\n",
    "# evaluate model\n",
    "cv = RepeatedStratifiedKFold(n_splits=10, n_repeats=3, random_state=1)\n",
    "n_scores = cross_val_score(model, X, y, scoring='accuracy', cv=cv, n_jobs=-1)\n",
    "# report performance\n",
    "print('Accuracy: %.3f (%.3f)' % (np.mean(n_scores), np.std(n_scores)))"
   ]
  },
  {
   "cell_type": "markdown",
   "metadata": {},
   "source": [
    "### Singular Value Descomposition"
   ]
  },
  {
   "cell_type": "code",
   "execution_count": 9,
   "metadata": {},
   "outputs": [
    {
     "name": "stdout",
     "output_type": "stream",
     "text": [
      "Accuracy: 0.824 (0.034)\n"
     ]
    }
   ],
   "source": [
    "from sklearn.decomposition import TruncatedSVD\n",
    "\n",
    "# define dataset\n",
    "X, y = make_classification(n_samples=1000, n_features=20, n_informative=10, n_redundant=10, random_state=7)\n",
    "# define the pipeline\n",
    "steps = [('svd', TruncatedSVD(n_components=10)), ('m', LogisticRegression())]\n",
    "model = Pipeline(steps=steps)\n",
    "# evaluate model\n",
    "cv = RepeatedStratifiedKFold(n_splits=10, n_repeats=3, random_state=1)\n",
    "n_scores = cross_val_score(model, X, y, scoring='accuracy', cv=cv, n_jobs=-1)\n",
    "# report performance\n",
    "print('Accuracy: %.3f (%.3f)' % (np.mean(n_scores), np.std(n_scores)))"
   ]
  }
 ],
 "metadata": {
  "kernelspec": {
   "display_name": "mlunsup_env",
   "language": "python",
   "name": "python3"
  },
  "language_info": {
   "codemirror_mode": {
    "name": "ipython",
    "version": 3
   },
   "file_extension": ".py",
   "mimetype": "text/x-python",
   "name": "python",
   "nbconvert_exporter": "python",
   "pygments_lexer": "ipython3",
   "version": "3.12.6"
  }
 },
 "nbformat": 4,
 "nbformat_minor": 2
}
