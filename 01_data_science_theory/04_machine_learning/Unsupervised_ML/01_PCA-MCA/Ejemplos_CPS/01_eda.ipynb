{
 "cells": [
  {
   "cell_type": "markdown",
   "metadata": {},
   "source": [
    "# PROYECTO DE ACCIDENTALIDAD. PROVINCIA DE VALENCIA"
   ]
  },
  {
   "cell_type": "markdown",
   "metadata": {},
   "source": [
    "## EDA y limpieza de datos. Creación de dataframes"
   ]
  },
  {
   "cell_type": "code",
   "execution_count": 1,
   "metadata": {},
   "outputs": [],
   "source": [
    "import pandas as pd\n",
    "import numpy as np\n",
    "import matplotlib.pyplot as plt\n",
    "import seaborn as sns\n",
    "import datetime as dt\n",
    "from scipy import stats\n",
    "import os\n",
    "\n",
    "from functions import *"
   ]
  },
  {
   "cell_type": "code",
   "execution_count": 2,
   "metadata": {},
   "outputs": [],
   "source": [
    "data_path = r\"C:\\Users\\alejandro.gc\\Desktop\\Proyectos\\Accidentalidad\\Accidentes_VALENCIA\\data\\2019 - 2024 (a 31 agosto).xlsx\""
   ]
  },
  {
   "cell_type": "code",
   "execution_count": 4,
   "metadata": {},
   "outputs": [],
   "source": [
    "hojas = [\"Accidentes\", \"Características Vía\", \"Características Tramo\", \"Personas Implicadas\", \"Vehículos\"]\n",
    "dfs = {}\n",
    "for hoja in hojas:\n",
    "    dfs[hoja] = pd.read_excel(data_path, sheet_name=hoja)\n",
    "\n",
    "df_accidentes = dfs[\"Accidentes\"]\n",
    "df_vias = dfs[\"Características Vía\"]\n",
    "df_tramos = dfs[\"Características Tramo\"]\n",
    "df_personas = dfs[\"Personas Implicadas\"]\n",
    "df_vehiculos = dfs[\"Vehículos\"]"
   ]
  },
  {
   "cell_type": "code",
   "execution_count": 5,
   "metadata": {},
   "outputs": [],
   "source": [
    "#Estandarizamos los header para trabajar más comodo\n",
    "\n",
    "lista_df = [df_accidentes, df_vias, df_tramos, df_personas, df_vehiculos]\n",
    "\n",
    "for df in lista_df:\n",
    "    estandarizar_columnas(df);"
   ]
  },
  {
   "cell_type": "code",
   "execution_count": 6,
   "metadata": {},
   "outputs": [
    {
     "name": "stdout",
     "output_type": "stream",
     "text": [
      "df_accidentes : 4138\n",
      "df_vias : 4138\n",
      "df_tramos : 4251\n",
      "df_personas : 7656\n",
      "df_vehiculos : 5763\n"
     ]
    }
   ],
   "source": [
    "# Se identifica el número de registros de cada uno de los datframes generados \n",
    "\n",
    "nombres_df = [\"df_accidentes\", \"df_vias\", \"df_tramos\", \"df_personas\", \"df_vehiculos\"]\n",
    "\n",
    "valuecounts = []\n",
    "\n",
    "for nombre, df in zip(nombres_df, lista_df):\n",
    "    suma = df[\"codigo del accidente\"].value_counts().sum()\n",
    "    valuecounts.append((nombre, suma))\n",
    "\n",
    "for nombre, suma in valuecounts:\n",
    "    print(f\"{nombre} : {suma}\")"
   ]
  },
  {
   "cell_type": "markdown",
   "metadata": {},
   "source": [
    "### Dataframe de accidentes"
   ]
  },
  {
   "cell_type": "code",
   "execution_count": 7,
   "metadata": {},
   "outputs": [
    {
     "data": {
      "text/plain": [
       "Index(['codigo del accidente', 'fecha inicio exportado', 'fecha fin exportado',\n",
       "       'total personas', 'total victimas', 'victimas mortales',\n",
       "       'victimas graves', 'victimas leves', 'ilesos', 'se desconoce',\n",
       "       'titularidad de la via', 'fecha del accidente',\n",
       "       'ultima accion realizada', 'no contabilizable', 'agente', 'unidad',\n",
       "       'fecha de modificacion en arena', 'longitud', 'latitud', 'hacia',\n",
       "       'tramo de red asignado', 'carretera en informe', 'pk en informe',\n",
       "       'carretera de trabajo', 'pk de trabajo', 'sentido', 'zona', 'municipio',\n",
       "       'poblacion', 'factores concurrentes', 'tipo de via', 'tipo de nudo',\n",
       "       'informacion de nudo', 'tipo de enlace', 'cruza con',\n",
       "       'regulacion prioridad', 'tipo de accidente', 'salida de via', 'suceso',\n",
       "       'sentido contrario', 'viento fuerte', 'estado meteorologico',\n",
       "       'iluminacion', 'superficie firme', 'animal salvaje', 'animal domestico',\n",
       "       'visibilidad restringida por', 'tipo de dia', 'nivel de circulacion',\n",
       "       'niebla', 'descripcion del accidente', 'observaciones del accidente',\n",
       "       'observaciones del tecnico'],\n",
       "      dtype='object')"
      ]
     },
     "execution_count": 7,
     "metadata": {},
     "output_type": "execute_result"
    }
   ],
   "source": [
    "df_accidentes.columns"
   ]
  },
  {
   "cell_type": "code",
   "execution_count": 8,
   "metadata": {},
   "outputs": [],
   "source": [
    "delete_acc_columns = ['fecha inicio exportado', 'fecha fin exportado', 'titularidad de la via',\n",
    "                      'ultima accion realizada', 'no contabilizable', 'agente', 'unidad',\n",
    "                       'fecha de modificacion en arena', 'hacia', 'tramo de red asignado',\n",
    "                       'pk en informe', 'carretera de trabajo', 'pk de trabajo', 'poblacion',\n",
    "                       'tipo de enlace', 'cruza con', 'regulacion prioridad', 'animal salvaje',\n",
    "                       'animal domestico', 'visibilidad restringida por', 'nivel de circulacion',\n",
    "                       'observaciones del accidente', 'observaciones del tecnico', 'niebla']\n",
    "\n",
    "drop_columns_df(df_accidentes, delete_acc_columns);"
   ]
  },
  {
   "cell_type": "code",
   "execution_count": 9,
   "metadata": {},
   "outputs": [],
   "source": [
    "# Añadimos las columnas de hora, dia semana y mes en el que se produjo el accidente.\n",
    "df_accidentes[\"hora\"] = df_accidentes['fecha del accidente'].dt.hour\n",
    "df_accidentes[\"mes\"] = df_accidentes['fecha del accidente'].dt.month\n",
    "df_accidentes[\"dia semana\"] = df_accidentes['fecha del accidente'].dt.day_name()\n",
    "df_accidentes[\"dia semana orden\"] = df_accidentes['fecha del accidente'].dt.dayofweek + 1 #Pandas define el lunes como 0 por defecto"
   ]
  },
  {
   "cell_type": "code",
   "execution_count": 10,
   "metadata": {},
   "outputs": [],
   "source": [
    "# Los valores nulos de latitud, longitud y carretera en informe se van a mentener por ahora.\n",
    "# A continuación, se corrigen los nulos de las columnas \"tipo de nudo\" e \"informacion de nudo\"\n",
    "\n",
    "df_accidentes[\"tipo de nudo\"] = df_accidentes[\"tipo de nudo\"].fillna(\"Fuera de nudo o de su zona de influencia (>20m / >200m)\")\n",
    "df_accidentes[\"informacion de nudo\"] =  df_accidentes[\"informacion de nudo\"].fillna(\"Fuera de nudo\")\n",
    "\n",
    "# Rellenamos con NO los valores nulos de la columna \"viento fuerte\"\n",
    "df_accidentes[\"viento fuerte\"] = df_accidentes[\"viento fuerte\"].fillna(\"NO\")\n",
    "\n",
    "# Rellenamos con \"se desconoce\" los valores nulos de la columna \"estado meteorologico\" e \"iluminacion\"\n",
    "df_accidentes[\"estado meteorologico\"] = df_accidentes[\"estado meteorologico\"].fillna(\"Se desconoce\")\n",
    "df_accidentes[\"iluminacion\"] = df_accidentes[\"iluminacion\"].fillna(\"Se desconoce\")\n",
    "df_accidentes[\"carretera en informe\"] = df_accidentes[\"carretera en informe\"].fillna(\"Se desconoce\")"
   ]
  },
  {
   "cell_type": "code",
   "execution_count": 11,
   "metadata": {},
   "outputs": [
    {
     "data": {
      "text/plain": [
       "codigo del accidente           0\n",
       "total personas                 0\n",
       "total victimas                 0\n",
       "victimas mortales              0\n",
       "victimas graves                0\n",
       "victimas leves                 0\n",
       "ilesos                         0\n",
       "se desconoce                   0\n",
       "fecha del accidente            0\n",
       "longitud                     140\n",
       "latitud                      142\n",
       "carretera en informe           0\n",
       "sentido                        0\n",
       "zona                           0\n",
       "municipio                      0\n",
       "factores concurrentes          0\n",
       "tipo de via                    0\n",
       "tipo de nudo                   0\n",
       "informacion de nudo            0\n",
       "tipo de accidente              0\n",
       "salida de via                  0\n",
       "suceso                         0\n",
       "sentido contrario              0\n",
       "viento fuerte                  0\n",
       "estado meteorologico           0\n",
       "iluminacion                    0\n",
       "superficie firme               0\n",
       "tipo de dia                    0\n",
       "descripcion del accidente      0\n",
       "hora                           0\n",
       "mes                            0\n",
       "dia semana                     0\n",
       "dia semana orden               0\n",
       "dtype: int64"
      ]
     },
     "execution_count": 11,
     "metadata": {},
     "output_type": "execute_result"
    }
   ],
   "source": [
    "df_accidentes.isnull().sum()"
   ]
  },
  {
   "cell_type": "markdown",
   "metadata": {},
   "source": [
    "### Dataframe de características de vías"
   ]
  },
  {
   "cell_type": "code",
   "execution_count": 12,
   "metadata": {},
   "outputs": [
    {
     "data": {
      "text/plain": [
       "Index(['codigo del accidente', 'numero de calzadas', 'ancho carril', 'arcen',\n",
       "       'carriles ascendente', 'carriles descendente', 'limite velocidad',\n",
       "       'sentidos', 'acera', 'ancho acera', 'anchura calzada',\n",
       "       'acondicionamiento de interseccion', 'danos via', 'marcas viales',\n",
       "       'trazado en alzado', 'trazado en planta', 'caracteristica del margen',\n",
       "       'elementos de separacion', 'elementos de balizamiento',\n",
       "       'tipo de elementos de tramo', 'circunstancias especiales',\n",
       "       'delimitacion de la calzada', 'caracteristica funcional de la via',\n",
       "       'senalizacion del peligro', 'visibilidad de la senalizacion vertical'],\n",
       "      dtype='object')"
      ]
     },
     "execution_count": 12,
     "metadata": {},
     "output_type": "execute_result"
    }
   ],
   "source": [
    "df_vias.columns"
   ]
  },
  {
   "cell_type": "code",
   "execution_count": 13,
   "metadata": {},
   "outputs": [],
   "source": [
    "delete_vias_columns = ['acera', 'ancho acera', 'anchura calzada', 'acondicionamiento de interseccion',\n",
    "                       'danos via', 'senalizacion del peligro', 'visibilidad de la senalizacion vertical',\n",
    "                       'delimitacion de la calzada', 'caracteristica del margen']\n",
    "\n",
    "drop_columns_df(df_vias, delete_vias_columns);"
   ]
  },
  {
   "cell_type": "code",
   "execution_count": 14,
   "metadata": {},
   "outputs": [],
   "source": [
    "# Rellenamos con \"se desconoce\" los valores nulos de las columnas correspondientes\n",
    "df_vias[\"numero de calzadas\"] = df_vias[\"numero de calzadas\"].fillna(\"Se desconoce\")\n",
    "df_vias[\"ancho carril\"] = df_vias[\"ancho carril\"].fillna(\"Se desconoce\")\n",
    "df_vias[\"arcen\"] = df_vias[\"arcen\"].fillna(\"Se desconoce\")\n",
    "df_vias[\"trazado en alzado\"] = df_vias[\"trazado en alzado\"].fillna(\"Se desconoce\")\n",
    "df_vias[\"trazado en planta\"] = df_vias[\"trazado en planta\"].fillna(\"Se desconoce\")\n",
    "df_vias[\"elementos de balizamiento\"] = df_vias[\"elementos de balizamiento\"].fillna(\"Se desconoce\")\n",
    "df_vias[\"sentidos\"] = df_vias[\"sentidos\"].fillna(\"Se desconoce\")\n",
    "\n",
    "# Rellenamos los valores nulos del resto de columnas en las que tenemos los datos\n",
    "df_vias[\"tipo de elementos de tramo\"] = df_vias[\"tipo de elementos de tramo\"].fillna(\"Ninguno\")\n",
    "df_vias[\"circunstancias especiales\"] = df_vias[\"circunstancias especiales\"].fillna(\"Ninguna\")\n",
    "df_vias[\"caracteristica funcional de la via\"] = df_vias[\"caracteristica funcional de la via\"].fillna(\"Ninguna de las anteriores\")\n",
    "\n",
    "df_vias[\"elementos de separacion\"] = df_vias[\"elementos de separacion\"].fillna(\"Otro\")"
   ]
  },
  {
   "cell_type": "code",
   "execution_count": 15,
   "metadata": {},
   "outputs": [],
   "source": [
    "# A continuación se procede a tratar la columna de \"limite de velocidad\"\n",
    "# Imputamos los valores de la media del límiite de velocidad en función del trazado en planta\n",
    "\n",
    "mask_nan = df_vias['limite velocidad'].isna()\n",
    "\n",
    "# Iterar sobre los índices de los valores NaN en 'limite velocidad'\n",
    "for i in df_vias[mask_nan].index:\n",
    "    \n",
    "    trazado = df_vias.at[i, 'trazado en planta']\n",
    "    \n",
    "    mask_carretera = df_vias['trazado en planta'] == trazado\n",
    "    \n",
    "    # Filtrar las filas que coinciden en 'trazado en planta' y que no tengan NaN en 'limite velocidad'\n",
    "    valores_velocidad = df_vias[mask_carretera]['limite velocidad'].dropna()\n",
    "    \n",
    "    # Si hay valores disponibles para calcular la moda\n",
    "    if not valores_velocidad.empty:\n",
    "        # Calcular la moda (valor más frecuente)\n",
    "        moda_limite_velocidad = stats.mode(valores_velocidad)[0]\n",
    "        \n",
    "        # Redondear la moda a la decena más cercana\n",
    "        moda_limite_velocidad_redondeada = redondear_decena(moda_limite_velocidad)\n",
    "        \n",
    "        # Asignar el valor redondeado a la fila actual con NaN en 'limite velocidad'\n",
    "        df_vias.at[i, 'limite velocidad'] = moda_limite_velocidad_redondeada"
   ]
  },
  {
   "cell_type": "code",
   "execution_count": 16,
   "metadata": {},
   "outputs": [
    {
     "data": {
      "text/plain": [
       "codigo del accidente                  0\n",
       "numero de calzadas                    0\n",
       "ancho carril                          0\n",
       "arcen                                 0\n",
       "carriles ascendente                   0\n",
       "carriles descendente                  0\n",
       "limite velocidad                      0\n",
       "sentidos                              0\n",
       "marcas viales                         0\n",
       "trazado en alzado                     0\n",
       "trazado en planta                     0\n",
       "elementos de separacion               0\n",
       "elementos de balizamiento             0\n",
       "tipo de elementos de tramo            0\n",
       "circunstancias especiales             0\n",
       "caracteristica funcional de la via    0\n",
       "dtype: int64"
      ]
     },
     "execution_count": 16,
     "metadata": {},
     "output_type": "execute_result"
    }
   ],
   "source": [
    "df_vias.isnull().sum()"
   ]
  },
  {
   "cell_type": "markdown",
   "metadata": {},
   "source": [
    "### Dataframe de características de tramos"
   ]
  },
  {
   "cell_type": "code",
   "execution_count": 17,
   "metadata": {},
   "outputs": [
    {
     "name": "stdout",
     "output_type": "stream",
     "text": [
      "<class 'pandas.core.frame.DataFrame'>\n",
      "RangeIndex: 4251 entries, 0 to 4250\n",
      "Data columns (total 6 columns):\n",
      " #   Column                Non-Null Count  Dtype  \n",
      "---  ------                --------------  -----  \n",
      " 0   codigo del accidente  4251 non-null   int64  \n",
      " 1   imd                   4227 non-null   float64\n",
      " 2   tipo entorno          3554 non-null   object \n",
      " 3   tipo calzada          3554 non-null   object \n",
      " 4   ancho de arcen        3554 non-null   float64\n",
      " 5   demarcacion           4251 non-null   object \n",
      "dtypes: float64(2), int64(1), object(3)\n",
      "memory usage: 199.4+ KB\n"
     ]
    }
   ],
   "source": [
    "df_tramos.info()"
   ]
  },
  {
   "cell_type": "code",
   "execution_count": 18,
   "metadata": {},
   "outputs": [],
   "source": [
    "delete_tram_columns = ['ancho de arcen']\n",
    "\n",
    "drop_columns_df(df_tramos, delete_tram_columns);"
   ]
  },
  {
   "cell_type": "code",
   "execution_count": 19,
   "metadata": {},
   "outputs": [],
   "source": [
    "df_tramos[\"tipo entorno\"] = df_tramos[\"tipo entorno\"].fillna(\"Se desconoce\")\n",
    "df_tramos[\"tipo calzada\"] = df_tramos[\"tipo calzada\"].fillna(\"Se desconoce\")"
   ]
  },
  {
   "cell_type": "code",
   "execution_count": 20,
   "metadata": {},
   "outputs": [
    {
     "data": {
      "text/plain": [
       "count     4227.000000\n",
       "mean      6146.893305\n",
       "std       5616.447878\n",
       "min         21.000000\n",
       "25%       1507.000000\n",
       "50%       4384.000000\n",
       "75%       9099.000000\n",
       "max      27504.000000\n",
       "Name: imd, dtype: float64"
      ]
     },
     "execution_count": 20,
     "metadata": {},
     "output_type": "execute_result"
    }
   ],
   "source": [
    "df_tramos[\"imd\"].describe()"
   ]
  },
  {
   "cell_type": "code",
   "execution_count": 21,
   "metadata": {},
   "outputs": [
    {
     "data": {
      "text/plain": [
       "(np.float64(1507.0), np.int64(24))"
      ]
     },
     "execution_count": 21,
     "metadata": {},
     "output_type": "execute_result"
    }
   ],
   "source": [
    "quantile_25 = df_tramos[\"imd\"].quantile(0.25)\n",
    "n_nulos = df_tramos[\"imd\"].isnull().sum()\n",
    "\n",
    "quantile_25, n_nulos"
   ]
  },
  {
   "cell_type": "code",
   "execution_count": 22,
   "metadata": {},
   "outputs": [],
   "source": [
    "df_tramos[\"imd\"] = df_tramos[\"imd\"].fillna(quantile_25)"
   ]
  },
  {
   "cell_type": "code",
   "execution_count": 23,
   "metadata": {},
   "outputs": [],
   "source": [
    "# Se define el umbral del IMD para clasificar en función de alta o baja densidad\n",
    "umbral_intensidad = 2000\n",
    "\n",
    "df_tramos[\"rango imd\"] = np.where(df_tramos[\"imd\"] >= umbral_intensidad, \"Alta intensidad\", \"Baja intensidad\")"
   ]
  },
  {
   "cell_type": "code",
   "execution_count": 24,
   "metadata": {},
   "outputs": [
    {
     "data": {
      "text/plain": [
       "codigo del accidente    0\n",
       "imd                     0\n",
       "tipo entorno            0\n",
       "tipo calzada            0\n",
       "demarcacion             0\n",
       "rango imd               0\n",
       "dtype: int64"
      ]
     },
     "execution_count": 24,
     "metadata": {},
     "output_type": "execute_result"
    }
   ],
   "source": [
    "df_tramos.isnull().sum()"
   ]
  },
  {
   "cell_type": "markdown",
   "metadata": {},
   "source": [
    "### Dataframe de características de personas implicadas"
   ]
  },
  {
   "cell_type": "code",
   "execution_count": 25,
   "metadata": {},
   "outputs": [
    {
     "data": {
      "text/plain": [
       "Index(['codigo del accidente', 'identificador', 'presunto responsable',\n",
       "       'presunto error', 'vehiculo', 'posicion', 'tipo de conductor',\n",
       "       'posicion en el vehiculo', 'tipo de vehiculo', 'no cotabilizable',\n",
       "       'lesividad', 'tipo de lesiones', 'sexo', 'edad', 'nacionalidad',\n",
       "       'poblacion de residencia', 'hospital de atenciones',\n",
       "       'motivo de desplazamiento', 'desplazamiento previsto',\n",
       "       'tipo de permiso', 'caracteristica del permiso', 'factor de atencion',\n",
       "       'signos alcohol', 'prueba de alcoholemia', 'tasa de alcohol 1',\n",
       "       'tasa de alcohol 2', 'signos drogas', 'droga',\n",
       "       'kilometros en sentido contrario', 'sin triangulo de presenalizacion',\n",
       "       'sin luces de emergencia', 'prenda reflectante', 'casco',\n",
       "       'cinturon de seguridad', 'sistema de retencion infantil',\n",
       "       'accesorio de seguridad de peaton', 'otros accesorios de seguridad',\n",
       "       'accion del conductor', 'accion del pasajero', 'accion del peaton',\n",
       "       'presunta infraccion del conductor', 'presunta infraccion de velocidad',\n",
       "       'presunta infraccion del peaton'],\n",
       "      dtype='object')"
      ]
     },
     "execution_count": 25,
     "metadata": {},
     "output_type": "execute_result"
    }
   ],
   "source": [
    "df_personas.columns"
   ]
  },
  {
   "cell_type": "code",
   "execution_count": 26,
   "metadata": {},
   "outputs": [],
   "source": [
    "delete_personas_columns = ['tipo de conductor', \"no cotabilizable\", \"tipo de lesiones\", \"hospital de atenciones\",\n",
    "                           \"kilometros en sentido contrario\", \"prenda reflectante\", \"poblacion de residencia\",\n",
    "                           \"tasa de alcohol 2\", \"droga\", \"nacionalidad\", \"prueba de alcoholemia\",\n",
    "                           \"sin triangulo de presenalizacion\", 'sin luces de emergencia', 'prenda reflectante',\n",
    "                           \"sistema de retencion infantil\", \"accesorio de seguridad de peaton\", \"otros accesorios de seguridad\",\n",
    "                           'accion del conductor', 'accion del pasajero']\n",
    "\n",
    "drop_columns_df(df_personas, delete_personas_columns);"
   ]
  },
  {
   "cell_type": "code",
   "execution_count": 27,
   "metadata": {},
   "outputs": [],
   "source": [
    "# Rellenamos los valores nulos para estandarizar los datos de los dataframes\n",
    "\n",
    "# En el caso de \"presunto responsable\" se considera que si es pasajero, no es el responsable directo del accidente\n",
    "df_personas[\"presunto responsable\"] = np.where(\n",
    "    (df_personas[\"presunto responsable\"].isna()) & (df_personas[\"posicion\"] == \"Pasajero\"), \n",
    "    \"NO\", \n",
    "    df_personas[\"presunto responsable\"]\n",
    ")\n",
    "\n",
    "df_personas[\"presunto responsable\"] = df_personas[\"presunto responsable\"].fillna(\"Se desconoce\")"
   ]
  },
  {
   "cell_type": "code",
   "execution_count": 28,
   "metadata": {},
   "outputs": [],
   "source": [
    "df_personas[\"presunto error\"] = df_personas[\"presunto error\"].fillna(\"Se desconoce\")\n",
    "df_personas[\"vehiculo\"] = df_personas[\"vehiculo\"].fillna(\"Se desconoce\")\n",
    "df_personas[\"posicion en el vehiculo\"] = df_personas[\"posicion en el vehiculo\"].fillna(\"Se desconoce\")\n",
    "df_personas[\"motivo de desplazamiento\"] = df_personas[\"motivo de desplazamiento\"].fillna(\"Se desconoce\")\n",
    "df_personas[\"desplazamiento previsto\"] = df_personas[\"desplazamiento previsto\"].fillna(\"Se desconoce\")\n",
    "df_personas[\"factor de atencion\"] = df_personas[\"factor de atencion\"].fillna(\"Se desconoce\")\n",
    "df_personas[\"presunta infraccion del conductor\"] = df_personas[\"presunta infraccion del conductor\"].fillna(\"Se desconoce\")\n",
    "df_personas[\"presunta infraccion de velocidad\"] = df_personas[\"presunta infraccion de velocidad\"].fillna(\"Se desconoce\")\n",
    "df_personas[\"tipo de permiso\"] = df_personas[\"tipo de permiso\"].fillna(\"Se desconoce\")\n",
    "df_personas[\"caracteristica del permiso\"] = df_personas[\"caracteristica del permiso\"].fillna(\"Se desconoce\")\n",
    "\n",
    "df_personas[\"tipo de vehiculo\"] = df_personas[\"tipo de vehiculo\"].fillna(\"Sin especificar\")\n",
    "\n",
    "df_personas[\"signos alcohol\"] = df_personas[\"signos alcohol\"].fillna(\"Se ignoran\")\n",
    "df_personas[\"cinturon de seguridad\"] = df_personas[\"cinturon de seguridad\"].fillna(\"Se ignora\")\n",
    "df_personas[\"casco\"] = df_personas[\"casco\"].fillna(\"Se ignora\")\n",
    "\n",
    "df_personas[\"tasa de alcohol 1\"] = df_personas[\"tasa de alcohol 1\"].fillna(0)\n",
    "\n",
    "df_personas[\"signos drogas\"] = df_personas[\"signos drogas\"].fillna(\"NO\")\n",
    "\n",
    "df_personas[\"accion del peaton\"] = df_personas[\"accion del peaton\"].fillna(\"Peaton no interviene\")\n",
    "df_personas[\"presunta infraccion del peaton\"] = df_personas[\"presunta infraccion del peaton\"].fillna(\"Peaton no interviene\")\n"
   ]
  },
  {
   "cell_type": "code",
   "execution_count": 29,
   "metadata": {},
   "outputs": [
    {
     "data": {
      "text/plain": [
       "codigo del accidente                   0\n",
       "identificador                          0\n",
       "presunto responsable                   0\n",
       "presunto error                         0\n",
       "vehiculo                               0\n",
       "posicion                               0\n",
       "posicion en el vehiculo                0\n",
       "tipo de vehiculo                       0\n",
       "lesividad                              0\n",
       "sexo                                   0\n",
       "edad                                 146\n",
       "motivo de desplazamiento               0\n",
       "desplazamiento previsto                0\n",
       "tipo de permiso                        0\n",
       "caracteristica del permiso             0\n",
       "factor de atencion                     0\n",
       "signos alcohol                         0\n",
       "tasa de alcohol 1                      0\n",
       "signos drogas                          0\n",
       "casco                                  0\n",
       "cinturon de seguridad                  0\n",
       "accion del peaton                      0\n",
       "presunta infraccion del conductor      0\n",
       "presunta infraccion de velocidad       0\n",
       "presunta infraccion del peaton         0\n",
       "dtype: int64"
      ]
     },
     "execution_count": 29,
     "metadata": {},
     "output_type": "execute_result"
    }
   ],
   "source": [
    "df_personas.isnull().sum()"
   ]
  },
  {
   "cell_type": "code",
   "execution_count": 30,
   "metadata": {},
   "outputs": [],
   "source": [
    "# Se definen las agrupaciones de vehículos en función del tipo de vehículo\n",
    "bicicletas = ['Bicicleta']\n",
    "\n",
    "camiones = ['Camión rígido', 'Tractocamión (cabeza tractora)', 'Vehículo articulado']\n",
    "\n",
    "furgoneta = [\"Furgoneta\"]\n",
    "\n",
    "maquinaria_obra_agricola = ['Maquinaria agrícola', 'Maquinaria de obras y servicios']\n",
    "\n",
    "motocicletas = ['Ciclomotor', 'Motocicleta (Sin determinar cilindrada)', \n",
    "                'Motocicleta hasta 125 cc', 'Motocicleta > 125 cc']\n",
    "\n",
    "turismos = ['Turismo']\n",
    "\n",
    "vmp = ['Vehículo Movilidad Personal']\n",
    "\n",
    "otros = ['Todo terreno', 'Sin especificar','Cuadriciclo ligero', 'Quad ligero',\n",
    "         'Cuadriciclo no ligero', 'Autocaravana', 'Autobús', 'Quad no ligero']"
   ]
  },
  {
   "cell_type": "code",
   "execution_count": 31,
   "metadata": {},
   "outputs": [
    {
     "name": "stdout",
     "output_type": "stream",
     "text": [
      "<class 'pandas.core.frame.DataFrame'>\n",
      "RangeIndex: 7656 entries, 0 to 7655\n",
      "Data columns (total 33 columns):\n",
      " #   Column                             Non-Null Count  Dtype  \n",
      "---  ------                             --------------  -----  \n",
      " 0   codigo del accidente               7656 non-null   int64  \n",
      " 1   identificador                      7656 non-null   object \n",
      " 2   presunto responsable               7656 non-null   object \n",
      " 3   presunto error                     7656 non-null   object \n",
      " 4   vehiculo                           7656 non-null   object \n",
      " 5   posicion                           7656 non-null   object \n",
      " 6   posicion en el vehiculo            7656 non-null   object \n",
      " 7   tipo de vehiculo                   7656 non-null   object \n",
      " 8   lesividad                          7656 non-null   object \n",
      " 9   sexo                               7656 non-null   object \n",
      " 10  edad                               7510 non-null   float64\n",
      " 11  motivo de desplazamiento           7656 non-null   object \n",
      " 12  desplazamiento previsto            7656 non-null   object \n",
      " 13  tipo de permiso                    7656 non-null   object \n",
      " 14  caracteristica del permiso         7656 non-null   object \n",
      " 15  factor de atencion                 7656 non-null   object \n",
      " 16  signos alcohol                     7656 non-null   object \n",
      " 17  tasa de alcohol 1                  7656 non-null   float64\n",
      " 18  signos drogas                      7656 non-null   object \n",
      " 19  casco                              7656 non-null   object \n",
      " 20  cinturon de seguridad              7656 non-null   object \n",
      " 21  accion del peaton                  7656 non-null   object \n",
      " 22  presunta infraccion del conductor  7656 non-null   object \n",
      " 23  presunta infraccion de velocidad   7656 non-null   object \n",
      " 24  presunta infraccion del peaton     7656 non-null   object \n",
      " 25  bicicleta                          7656 non-null   int64  \n",
      " 26  camion                             7656 non-null   int64  \n",
      " 27  furgoneta                          7656 non-null   int64  \n",
      " 28  maquinaria obra agricola           7656 non-null   int64  \n",
      " 29  motocicleta                        7656 non-null   int64  \n",
      " 30  turismo                            7656 non-null   int64  \n",
      " 31  vmp                                7656 non-null   int64  \n",
      " 32  otro                               7656 non-null   int64  \n",
      "dtypes: float64(2), int64(9), object(22)\n",
      "memory usage: 1.9+ MB\n"
     ]
    }
   ],
   "source": [
    "# Se crean nuevas columnas con valores booleanos para definir el tipo de vehículo\n",
    "tipos_vehiculo = {\n",
    "    'bicicleta': bicicletas,\n",
    "    'camion': camiones,\n",
    "    'furgoneta': furgoneta,\n",
    "    'maquinaria obra agricola': maquinaria_obra_agricola,\n",
    "    'motocicleta': motocicletas,\n",
    "    'turismo' : turismos,\n",
    "    'vmp' : vmp,\n",
    "    'otro' : otros\n",
    "}\n",
    "\n",
    "clasificar_vehiculos(df_personas, tipos_vehiculo, \"tipo de vehiculo\");"
   ]
  },
  {
   "cell_type": "code",
   "execution_count": 32,
   "metadata": {},
   "outputs": [],
   "source": [
    "df_personas = df_personas.drop(columns = \"tipo de vehiculo\", axis = 1)"
   ]
  },
  {
   "cell_type": "code",
   "execution_count": 33,
   "metadata": {},
   "outputs": [],
   "source": [
    "#Definimos el rango de la tasa de alcohol de las personas implicadas en los accidentes\n",
    "df_personas = rango_edad(df_personas, \"edad\")"
   ]
  },
  {
   "cell_type": "code",
   "execution_count": 34,
   "metadata": {},
   "outputs": [],
   "source": [
    "#Definimos el rango de edad de las personas implicadas en los accidentes\n",
    "df_personas = rango_alcohol(df_personas, \"tasa de alcohol 1\")"
   ]
  },
  {
   "cell_type": "markdown",
   "metadata": {},
   "source": [
    "### Dataframe de vehículos implicados"
   ]
  },
  {
   "cell_type": "code",
   "execution_count": 35,
   "metadata": {},
   "outputs": [
    {
     "data": {
      "text/plain": [
       "Index(['codigo del accidente', 'identificador', 'tipo de vehiculo',\n",
       "       'nacionalidad', 'fecha de matriculacion', 'numero ocupantes',\n",
       "       'conductor', 'matricula', 'color del vehiculo', 'marca', 'modelo',\n",
       "       'anomalia previa', 'itv correcta', 'seguro obligatorio',\n",
       "       'sin conductor', 'remolque', 'tipo remolque', 'mma', 'disco tacografo',\n",
       "       'leido el disco tacografo', 'airbags disparados', 'velocidad final',\n",
       "       'mercancias peligrosas', 'codigo onu', 'transporte especial',\n",
       "       'vehiculo adaptado', 'usa el alumbrado reglamentario',\n",
       "       'respeta el descanso diario', 'supera la conduccion diaria',\n",
       "       'supera la conduccion continuada', 'maniobra del vehiculo',\n",
       "       'sentido de ciruclacion', 'aproximacion al nudo',\n",
       "       'lugar de ciruclacion', 'posicion respecto a la via',\n",
       "       'posicion respecto a la calzada', 'posicion respecto al carril',\n",
       "       'area mas danada del vehiculo', 'fugado', 'vehiculo incendiado'],\n",
       "      dtype='object')"
      ]
     },
     "execution_count": 35,
     "metadata": {},
     "output_type": "execute_result"
    }
   ],
   "source": [
    "df_vehiculos.columns"
   ]
  },
  {
   "cell_type": "code",
   "execution_count": 36,
   "metadata": {},
   "outputs": [],
   "source": [
    "delete_vehiculos_columns = [\"nacionalidad\", \"conductor\", \"matricula\", \"color del vehiculo\", \"modelo\", \"seguro obligatorio\",\n",
    "                            \"sin conductor\", \"tipo remolque\", \"mma\", 'disco tacografo','leido el disco tacografo',\n",
    "                            \"velocidad final\", \"codigo onu\", 'usa el alumbrado reglamentario', 'maniobra del vehiculo',\n",
    "                            \"supera la conduccion diaria\", \"supera la conduccion continuada\", \"respeta el descanso diario\",\n",
    "                            \"fugado\", \"vehiculo incendiado\"]\n",
    "\n",
    "drop_columns_df(df_vehiculos, delete_vehiculos_columns);"
   ]
  },
  {
   "cell_type": "code",
   "execution_count": 37,
   "metadata": {},
   "outputs": [
    {
     "data": {
      "text/plain": [
       "codigo del accidente                 0\n",
       "identificador                        0\n",
       "tipo de vehiculo                     0\n",
       "fecha de matriculacion             414\n",
       "numero ocupantes                     0\n",
       "marca                              373\n",
       "anomalia previa                      0\n",
       "itv correcta                       419\n",
       "remolque                            21\n",
       "airbags disparados                4947\n",
       "mercancias peligrosas               19\n",
       "transporte especial                 19\n",
       "vehiculo adaptado                   19\n",
       "sentido de ciruclacion              19\n",
       "aproximacion al nudo                21\n",
       "lugar de ciruclacion               103\n",
       "posicion respecto a la via        2300\n",
       "posicion respecto a la calzada      19\n",
       "posicion respecto al carril         19\n",
       "area mas danada del vehiculo        19\n",
       "dtype: int64"
      ]
     },
     "execution_count": 37,
     "metadata": {},
     "output_type": "execute_result"
    }
   ],
   "source": [
    "df_vehiculos.isnull().sum()"
   ]
  },
  {
   "cell_type": "code",
   "execution_count": 38,
   "metadata": {},
   "outputs": [],
   "source": [
    "lista_se_desconoce = [\"marca\", 'airbags disparados', 'sentido de ciruclacion', 'aproximacion al nudo',\n",
    "                      'lugar de ciruclacion', 'posicion respecto a la via', 'posicion respecto a la calzada',\n",
    "                      'posicion respecto al carril', 'area mas danada del vehiculo']\n",
    "\n",
    "\n",
    "replace_nan(df_vehiculos, lista_se_desconoce, \"Se desconoce\");"
   ]
  },
  {
   "cell_type": "code",
   "execution_count": 39,
   "metadata": {},
   "outputs": [],
   "source": [
    "lista_no = [\"itv correcta\", \"remolque\", \"mercancias peligrosas\", \"transporte especial\",\n",
    "            'vehiculo adaptado']\n",
    "\n",
    "replace_nan(df_vehiculos, lista_no, \"NO\");"
   ]
  },
  {
   "cell_type": "code",
   "execution_count": 40,
   "metadata": {},
   "outputs": [],
   "source": [
    "# Se definen las agrupaciones de vehículos en función del tipo de vehículo\n",
    "bicicletas = ['Bicicleta']\n",
    "\n",
    "camiones = ['Camión rígido', 'Tractocamión (cabeza tractora)', 'Vehículo articulado']\n",
    "\n",
    "furgoneta = [\"Furgoneta\"]\n",
    "\n",
    "maquinaria_obra_agricola = ['Maquinaria agrícola', 'Maquinaria de obras y servicios']\n",
    "\n",
    "motocicletas = ['Ciclomotor', 'Motocicleta (Sin determinar cilindrada)', \n",
    "                'Motocicleta hasta 125 cc', 'Motocicleta > 125 cc']\n",
    "\n",
    "turismos = ['Turismo']\n",
    "\n",
    "vmp = ['Vehículo Movilidad Personal']\n",
    "\n",
    "otros = ['Todo terreno', 'Sin especificar','Cuadriciclo ligero', 'Quad ligero',\n",
    "         'Cuadriciclo no ligero', 'Autocaravana', 'Autobús', 'Quad no ligero']"
   ]
  },
  {
   "cell_type": "code",
   "execution_count": 41,
   "metadata": {},
   "outputs": [
    {
     "name": "stdout",
     "output_type": "stream",
     "text": [
      "<class 'pandas.core.frame.DataFrame'>\n",
      "RangeIndex: 5763 entries, 0 to 5762\n",
      "Data columns (total 28 columns):\n",
      " #   Column                          Non-Null Count  Dtype         \n",
      "---  ------                          --------------  -----         \n",
      " 0   codigo del accidente            5763 non-null   int64         \n",
      " 1   identificador                   5763 non-null   object        \n",
      " 2   tipo de vehiculo                5763 non-null   object        \n",
      " 3   fecha de matriculacion          5349 non-null   datetime64[ns]\n",
      " 4   numero ocupantes                5763 non-null   int64         \n",
      " 5   marca                           5763 non-null   object        \n",
      " 6   anomalia previa                 5763 non-null   object        \n",
      " 7   itv correcta                    5763 non-null   object        \n",
      " 8   remolque                        5763 non-null   object        \n",
      " 9   airbags disparados              5763 non-null   object        \n",
      " 10  mercancias peligrosas           5763 non-null   object        \n",
      " 11  transporte especial             5763 non-null   object        \n",
      " 12  vehiculo adaptado               5763 non-null   object        \n",
      " 13  sentido de ciruclacion          5763 non-null   object        \n",
      " 14  aproximacion al nudo            5763 non-null   object        \n",
      " 15  lugar de ciruclacion            5763 non-null   object        \n",
      " 16  posicion respecto a la via      5763 non-null   object        \n",
      " 17  posicion respecto a la calzada  5763 non-null   object        \n",
      " 18  posicion respecto al carril     5763 non-null   object        \n",
      " 19  area mas danada del vehiculo    5763 non-null   object        \n",
      " 20  bicicleta                       5763 non-null   int64         \n",
      " 21  camion                          5763 non-null   int64         \n",
      " 22  furgoneta                       5763 non-null   int64         \n",
      " 23  maquinaria obra agricola        5763 non-null   int64         \n",
      " 24  motocicleta                     5763 non-null   int64         \n",
      " 25  turismo                         5763 non-null   int64         \n",
      " 26  vmp                             5763 non-null   int64         \n",
      " 27  otro                            5763 non-null   int64         \n",
      "dtypes: datetime64[ns](1), int64(10), object(17)\n",
      "memory usage: 1.2+ MB\n"
     ]
    }
   ],
   "source": [
    "# Se crean nuevas columnas con valores booleanos para definir el tipo de vehículo\n",
    "tipos_vehiculo = {\n",
    "    'bicicleta': bicicletas,\n",
    "    'camion': camiones,\n",
    "    'furgoneta': furgoneta,\n",
    "    'maquinaria obra agricola': maquinaria_obra_agricola,\n",
    "    'motocicleta': motocicletas,\n",
    "    'turismo' : turismos,\n",
    "    'vmp' : vmp,\n",
    "    'otro' : otros\n",
    "}\n",
    "\n",
    "clasificar_vehiculos(df_vehiculos, tipos_vehiculo, \"tipo de vehiculo\");"
   ]
  },
  {
   "cell_type": "code",
   "execution_count": 42,
   "metadata": {},
   "outputs": [],
   "source": [
    "df_vehiculos = df_vehiculos.drop(columns = \"tipo de vehiculo\")"
   ]
  },
  {
   "cell_type": "markdown",
   "metadata": {},
   "source": [
    "## Guardado de datos en Excel"
   ]
  },
  {
   "cell_type": "code",
   "execution_count": 43,
   "metadata": {},
   "outputs": [],
   "source": [
    "ruta_guardado = r'C:\\Users\\alejandro.gc\\Desktop\\Proyectos\\Accidentalidad\\Accidentes_VALENCIA\\data\\CLEAN_DATA\\clean_data.xlsx'\n",
    "\n",
    "ruta_archivo = os.path.join(ruta_guardado)\n",
    "\n",
    "with pd.ExcelWriter(ruta_archivo, engine='openpyxl') as writer:\n",
    "    df_accidentes.to_excel(writer, sheet_name='Accidentes', index=False)\n",
    "    df_vias.to_excel(writer, sheet_name='Vias', index=False)\n",
    "    df_tramos.to_excel(writer, sheet_name='Tramos', index=False)\n",
    "    df_personas.to_excel(writer, sheet_name='Personas', index=False)\n",
    "    df_vehiculos.to_excel(writer, sheet_name='Vehiculos', index=False)"
   ]
  }
 ],
 "metadata": {
  "kernelspec": {
   "display_name": "mlunsup_env",
   "language": "python",
   "name": "python3"
  },
  "language_info": {
   "codemirror_mode": {
    "name": "ipython",
    "version": 3
   },
   "file_extension": ".py",
   "mimetype": "text/x-python",
   "name": "python",
   "nbconvert_exporter": "python",
   "pygments_lexer": "ipython3",
   "version": "3.12.6"
  }
 },
 "nbformat": 4,
 "nbformat_minor": 2
}
